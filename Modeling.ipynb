{
 "cells": [
  {
   "cell_type": "markdown",
   "id": "1e990b39",
   "metadata": {},
   "source": [
    "**File Contents:**\n",
    "1. Merge initial data sets\\\n",
    "    1.1. Hit\\\n",
    "    1.2. Sessions\\\n",
    "    1.3. Merge\\\n",
    "2. Data Preparation\\\n",
    "    2.1.  Data Сleaning\\\n",
    "    2.2.  Data Transformation\\\n",
    "    2.3.\tData Standartization\\\n",
    "    2.4.\tData Encoding\n",
    "3.\tModeling\\\n",
    "    3.1. LogReg\\\n",
    "        3.1.1. Hyperparameter Selection\\\n",
    "        3.1.2. Best LogReg\\\n",
    "    3.2. Random Forest\\\n",
    "        3.2.1. Hyperparameter Selection\\\n",
    "        3.2.2. Best Random Forest\\\n",
    "    3.3. Best Model\n",
    "4. Result\n"
   ]
  },
  {
   "cell_type": "code",
   "execution_count": 1,
   "id": "ddb012c0",
   "metadata": {},
   "outputs": [],
   "source": [
    "import pandas as pd\n",
    "import numpy as np\n",
    "import pickle\n",
    "\n",
    "from matplotlib import pyplot as plt\n",
    "from sklearn.linear_model import LogisticRegression\n",
    "from sklearn.ensemble import RandomForestClassifier\n",
    "from sklearn.impute import SimpleImputer\n",
    "from category_encoders import TargetEncoder\n",
    "from sklearn.preprocessing import MinMaxScaler\n",
    "from sklearn.metrics import confusion_matrix, roc_auc_score\n",
    "from sklearn.metrics import precision_score, recall_score, f1_score\n",
    "from sklearn.model_selection import train_test_split, cross_val_score, StratifiedKFold\n",
    "from sklearn.model_selection import GridSearchCV\n",
    "\n",
    "import warnings\n",
    "warnings.filterwarnings('ignore')"
   ]
  },
  {
   "cell_type": "markdown",
   "id": "258f4be7",
   "metadata": {},
   "source": [
    "# 1. Merge initial data sets"
   ]
  },
  {
   "cell_type": "markdown",
   "id": "d3369739",
   "metadata": {},
   "source": [
    "## 1.1. Hit"
   ]
  },
  {
   "cell_type": "markdown",
   "id": "7d849502",
   "metadata": {},
   "source": [
    "**The initial data was loaded from the file.\\\n",
    "The events were distinguished as target/non-target (1/0) according to the task for subsequent training of the model within the binary classification task.\\\n",
    "Duplicates removed.**"
   ]
  },
  {
   "cell_type": "markdown",
   "id": "e9d8473d",
   "metadata": {},
   "source": [
    "**Data description:**\\\n",
    "session_id — visit ID;\\\n",
    "hit_ate — event date;\\\n",
    "hit_time — event time;\\\n",
    "hit_number — event sequence number within the session;\\\n",
    "hit_type — event type;\\\n",
    "hit_referer — event source;\\\n",
    "hit_page_path — event page;\\\n",
    "event_category — action type;\\\n",
    "event_action — action;\\\n",
    "event_label — action tag;\\\n",
    "event_value — action result valueu"
   ]
  },
  {
   "cell_type": "code",
   "execution_count": 2,
   "id": "bec0a468",
   "metadata": {},
   "outputs": [
    {
     "data": {
      "text/html": [
       "<div>\n",
       "<style scoped>\n",
       "    .dataframe tbody tr th:only-of-type {\n",
       "        vertical-align: middle;\n",
       "    }\n",
       "\n",
       "    .dataframe tbody tr th {\n",
       "        vertical-align: top;\n",
       "    }\n",
       "\n",
       "    .dataframe thead th {\n",
       "        text-align: right;\n",
       "    }\n",
       "</style>\n",
       "<table border=\"1\" class=\"dataframe\">\n",
       "  <thead>\n",
       "    <tr style=\"text-align: right;\">\n",
       "      <th></th>\n",
       "      <th>session_id</th>\n",
       "      <th>hit_date</th>\n",
       "      <th>hit_time</th>\n",
       "      <th>hit_number</th>\n",
       "      <th>hit_type</th>\n",
       "      <th>hit_referer</th>\n",
       "      <th>hit_page_path</th>\n",
       "      <th>event_category</th>\n",
       "      <th>event_action</th>\n",
       "      <th>event_label</th>\n",
       "      <th>event_value</th>\n",
       "    </tr>\n",
       "  </thead>\n",
       "  <tbody>\n",
       "    <tr>\n",
       "      <th>0</th>\n",
       "      <td>5639623078712724064.1640254056.1640254056</td>\n",
       "      <td>2021-12-23</td>\n",
       "      <td>597864.0</td>\n",
       "      <td>30</td>\n",
       "      <td>event</td>\n",
       "      <td>NaN</td>\n",
       "      <td>sberauto.com/cars?utm_source_initial=google&amp;ut...</td>\n",
       "      <td>quiz</td>\n",
       "      <td>quiz_show</td>\n",
       "      <td>NaN</td>\n",
       "      <td>NaN</td>\n",
       "    </tr>\n",
       "    <tr>\n",
       "      <th>1</th>\n",
       "      <td>7750352294969115059.1640271109.1640271109</td>\n",
       "      <td>2021-12-23</td>\n",
       "      <td>597331.0</td>\n",
       "      <td>41</td>\n",
       "      <td>event</td>\n",
       "      <td>NaN</td>\n",
       "      <td>sberauto.com/cars/fiat?city=1&amp;city=18&amp;rental_c...</td>\n",
       "      <td>quiz</td>\n",
       "      <td>quiz_show</td>\n",
       "      <td>NaN</td>\n",
       "      <td>NaN</td>\n",
       "    </tr>\n",
       "    <tr>\n",
       "      <th>2</th>\n",
       "      <td>885342191847998240.1640235807.1640235807</td>\n",
       "      <td>2021-12-23</td>\n",
       "      <td>796252.0</td>\n",
       "      <td>49</td>\n",
       "      <td>event</td>\n",
       "      <td>NaN</td>\n",
       "      <td>sberauto.com/cars/all/volkswagen/polo/e994838f...</td>\n",
       "      <td>quiz</td>\n",
       "      <td>quiz_show</td>\n",
       "      <td>NaN</td>\n",
       "      <td>NaN</td>\n",
       "    </tr>\n",
       "    <tr>\n",
       "      <th>3</th>\n",
       "      <td>142526202120934167.1640211014.1640211014</td>\n",
       "      <td>2021-12-23</td>\n",
       "      <td>934292.0</td>\n",
       "      <td>46</td>\n",
       "      <td>event</td>\n",
       "      <td>NaN</td>\n",
       "      <td>sberauto.com/cars?utm_source_initial=yandex&amp;ut...</td>\n",
       "      <td>quiz</td>\n",
       "      <td>quiz_show</td>\n",
       "      <td>NaN</td>\n",
       "      <td>NaN</td>\n",
       "    </tr>\n",
       "    <tr>\n",
       "      <th>4</th>\n",
       "      <td>3450086108837475701.1640265078.1640265078</td>\n",
       "      <td>2021-12-23</td>\n",
       "      <td>768741.0</td>\n",
       "      <td>79</td>\n",
       "      <td>event</td>\n",
       "      <td>NaN</td>\n",
       "      <td>sberauto.com/cars/all/mercedes-benz/cla-klasse...</td>\n",
       "      <td>quiz</td>\n",
       "      <td>quiz_show</td>\n",
       "      <td>NaN</td>\n",
       "      <td>NaN</td>\n",
       "    </tr>\n",
       "  </tbody>\n",
       "</table>\n",
       "</div>"
      ],
      "text/plain": [
       "                                  session_id    hit_date  hit_time  \\\n",
       "0  5639623078712724064.1640254056.1640254056  2021-12-23  597864.0   \n",
       "1  7750352294969115059.1640271109.1640271109  2021-12-23  597331.0   \n",
       "2   885342191847998240.1640235807.1640235807  2021-12-23  796252.0   \n",
       "3   142526202120934167.1640211014.1640211014  2021-12-23  934292.0   \n",
       "4  3450086108837475701.1640265078.1640265078  2021-12-23  768741.0   \n",
       "\n",
       "   hit_number hit_type hit_referer  \\\n",
       "0          30    event         NaN   \n",
       "1          41    event         NaN   \n",
       "2          49    event         NaN   \n",
       "3          46    event         NaN   \n",
       "4          79    event         NaN   \n",
       "\n",
       "                                       hit_page_path event_category  \\\n",
       "0  sberauto.com/cars?utm_source_initial=google&ut...           quiz   \n",
       "1  sberauto.com/cars/fiat?city=1&city=18&rental_c...           quiz   \n",
       "2  sberauto.com/cars/all/volkswagen/polo/e994838f...           quiz   \n",
       "3  sberauto.com/cars?utm_source_initial=yandex&ut...           quiz   \n",
       "4  sberauto.com/cars/all/mercedes-benz/cla-klasse...           quiz   \n",
       "\n",
       "  event_action event_label  event_value  \n",
       "0    quiz_show         NaN          NaN  \n",
       "1    quiz_show         NaN          NaN  \n",
       "2    quiz_show         NaN          NaN  \n",
       "3    quiz_show         NaN          NaN  \n",
       "4    quiz_show         NaN          NaN  "
      ]
     },
     "execution_count": 2,
     "metadata": {},
     "output_type": "execute_result"
    }
   ],
   "source": [
    "df1 = pd.read_csv('./data/ga_hits.csv')\n",
    "df1.head()"
   ]
  },
  {
   "cell_type": "code",
   "execution_count": 3,
   "id": "5cd55733",
   "metadata": {},
   "outputs": [
    {
     "name": "stdout",
     "output_type": "stream",
     "text": [
      "<class 'pandas.core.frame.DataFrame'>\n",
      "RangeIndex: 15726470 entries, 0 to 15726469\n",
      "Data columns (total 11 columns):\n",
      " #   Column          Dtype  \n",
      "---  ------          -----  \n",
      " 0   session_id      object \n",
      " 1   hit_date        object \n",
      " 2   hit_time        float64\n",
      " 3   hit_number      int64  \n",
      " 4   hit_type        object \n",
      " 5   hit_referer     object \n",
      " 6   hit_page_path   object \n",
      " 7   event_category  object \n",
      " 8   event_action    object \n",
      " 9   event_label     object \n",
      " 10  event_value     float64\n",
      "dtypes: float64(2), int64(1), object(8)\n",
      "memory usage: 1.3+ GB\n"
     ]
    }
   ],
   "source": [
    "df1.info()"
   ]
  },
  {
   "cell_type": "code",
   "execution_count": 4,
   "id": "4fc47be0",
   "metadata": {},
   "outputs": [],
   "source": [
    "target_events = ['sub_car_claim_click', 'sub_car_claim_submit_click', 'sub_open_dialog_click',\n",
    "                 'sub_custom_question_submit_click', 'sub_call_number_click', 'sub_callback_submit_click',\n",
    "                 'sub_submit_success', 'sub_car_request_submit_click']"
   ]
  },
  {
   "cell_type": "code",
   "execution_count": 5,
   "id": "963de4d4",
   "metadata": {},
   "outputs": [],
   "source": [
    "df1 = df1.drop_duplicates()"
   ]
  },
  {
   "cell_type": "code",
   "execution_count": 6,
   "id": "593fa791",
   "metadata": {
    "scrolled": true
   },
   "outputs": [
    {
     "data": {
      "text/html": [
       "<div>\n",
       "<style scoped>\n",
       "    .dataframe tbody tr th:only-of-type {\n",
       "        vertical-align: middle;\n",
       "    }\n",
       "\n",
       "    .dataframe tbody tr th {\n",
       "        vertical-align: top;\n",
       "    }\n",
       "\n",
       "    .dataframe thead th {\n",
       "        text-align: right;\n",
       "    }\n",
       "</style>\n",
       "<table border=\"1\" class=\"dataframe\">\n",
       "  <thead>\n",
       "    <tr style=\"text-align: right;\">\n",
       "      <th></th>\n",
       "      <th>session_id</th>\n",
       "      <th>hit_date</th>\n",
       "      <th>hit_time</th>\n",
       "      <th>hit_number</th>\n",
       "      <th>hit_type</th>\n",
       "      <th>hit_referer</th>\n",
       "      <th>hit_page_path</th>\n",
       "      <th>event_category</th>\n",
       "      <th>event_action</th>\n",
       "      <th>event_label</th>\n",
       "      <th>event_value</th>\n",
       "    </tr>\n",
       "  </thead>\n",
       "  <tbody>\n",
       "    <tr>\n",
       "      <th>0</th>\n",
       "      <td>5639623078712724064.1640254056.1640254056</td>\n",
       "      <td>2021-12-23</td>\n",
       "      <td>597864.0</td>\n",
       "      <td>30</td>\n",
       "      <td>event</td>\n",
       "      <td>NaN</td>\n",
       "      <td>sberauto.com/cars?utm_source_initial=google&amp;ut...</td>\n",
       "      <td>quiz</td>\n",
       "      <td>0</td>\n",
       "      <td>NaN</td>\n",
       "      <td>NaN</td>\n",
       "    </tr>\n",
       "    <tr>\n",
       "      <th>1</th>\n",
       "      <td>7750352294969115059.1640271109.1640271109</td>\n",
       "      <td>2021-12-23</td>\n",
       "      <td>597331.0</td>\n",
       "      <td>41</td>\n",
       "      <td>event</td>\n",
       "      <td>NaN</td>\n",
       "      <td>sberauto.com/cars/fiat?city=1&amp;city=18&amp;rental_c...</td>\n",
       "      <td>quiz</td>\n",
       "      <td>0</td>\n",
       "      <td>NaN</td>\n",
       "      <td>NaN</td>\n",
       "    </tr>\n",
       "    <tr>\n",
       "      <th>2</th>\n",
       "      <td>885342191847998240.1640235807.1640235807</td>\n",
       "      <td>2021-12-23</td>\n",
       "      <td>796252.0</td>\n",
       "      <td>49</td>\n",
       "      <td>event</td>\n",
       "      <td>NaN</td>\n",
       "      <td>sberauto.com/cars/all/volkswagen/polo/e994838f...</td>\n",
       "      <td>quiz</td>\n",
       "      <td>0</td>\n",
       "      <td>NaN</td>\n",
       "      <td>NaN</td>\n",
       "    </tr>\n",
       "    <tr>\n",
       "      <th>3</th>\n",
       "      <td>142526202120934167.1640211014.1640211014</td>\n",
       "      <td>2021-12-23</td>\n",
       "      <td>934292.0</td>\n",
       "      <td>46</td>\n",
       "      <td>event</td>\n",
       "      <td>NaN</td>\n",
       "      <td>sberauto.com/cars?utm_source_initial=yandex&amp;ut...</td>\n",
       "      <td>quiz</td>\n",
       "      <td>0</td>\n",
       "      <td>NaN</td>\n",
       "      <td>NaN</td>\n",
       "    </tr>\n",
       "    <tr>\n",
       "      <th>4</th>\n",
       "      <td>3450086108837475701.1640265078.1640265078</td>\n",
       "      <td>2021-12-23</td>\n",
       "      <td>768741.0</td>\n",
       "      <td>79</td>\n",
       "      <td>event</td>\n",
       "      <td>NaN</td>\n",
       "      <td>sberauto.com/cars/all/mercedes-benz/cla-klasse...</td>\n",
       "      <td>quiz</td>\n",
       "      <td>0</td>\n",
       "      <td>NaN</td>\n",
       "      <td>NaN</td>\n",
       "    </tr>\n",
       "  </tbody>\n",
       "</table>\n",
       "</div>"
      ],
      "text/plain": [
       "                                  session_id    hit_date  hit_time  \\\n",
       "0  5639623078712724064.1640254056.1640254056  2021-12-23  597864.0   \n",
       "1  7750352294969115059.1640271109.1640271109  2021-12-23  597331.0   \n",
       "2   885342191847998240.1640235807.1640235807  2021-12-23  796252.0   \n",
       "3   142526202120934167.1640211014.1640211014  2021-12-23  934292.0   \n",
       "4  3450086108837475701.1640265078.1640265078  2021-12-23  768741.0   \n",
       "\n",
       "   hit_number hit_type hit_referer  \\\n",
       "0          30    event         NaN   \n",
       "1          41    event         NaN   \n",
       "2          49    event         NaN   \n",
       "3          46    event         NaN   \n",
       "4          79    event         NaN   \n",
       "\n",
       "                                       hit_page_path event_category  \\\n",
       "0  sberauto.com/cars?utm_source_initial=google&ut...           quiz   \n",
       "1  sberauto.com/cars/fiat?city=1&city=18&rental_c...           quiz   \n",
       "2  sberauto.com/cars/all/volkswagen/polo/e994838f...           quiz   \n",
       "3  sberauto.com/cars?utm_source_initial=yandex&ut...           quiz   \n",
       "4  sberauto.com/cars/all/mercedes-benz/cla-klasse...           quiz   \n",
       "\n",
       "   event_action event_label  event_value  \n",
       "0             0         NaN          NaN  \n",
       "1             0         NaN          NaN  \n",
       "2             0         NaN          NaN  \n",
       "3             0         NaN          NaN  \n",
       "4             0         NaN          NaN  "
      ]
     },
     "execution_count": 6,
     "metadata": {},
     "output_type": "execute_result"
    }
   ],
   "source": [
    "df1_1 = df1.copy()\n",
    "df1_1.event_action = df1_1.event_action.apply(lambda x: 1 if x in target_events else 0)\n",
    "df1_1.head()"
   ]
  },
  {
   "cell_type": "code",
   "execution_count": 7,
   "id": "8bece61a",
   "metadata": {},
   "outputs": [
    {
     "data": {
      "text/plain": [
       "0    15621562\n",
       "1      104908\n",
       "Name: event_action, dtype: int64"
      ]
     },
     "execution_count": 7,
     "metadata": {},
     "output_type": "execute_result"
    }
   ],
   "source": [
    "df1_1.event_action.value_counts()"
   ]
  },
  {
   "cell_type": "code",
   "execution_count": 8,
   "id": "aebd83f2",
   "metadata": {},
   "outputs": [
    {
     "data": {
      "text/plain": [
       "0    1683850\n",
       "1      50760\n",
       "Name: event_action, dtype: int64"
      ]
     },
     "execution_count": 8,
     "metadata": {},
     "output_type": "execute_result"
    }
   ],
   "source": [
    "df1_short = df1_1.groupby(['session_id'])[['event_action']].sum()\n",
    "df1_short.event_action = df1_short.event_action.apply(lambda x: 1 if x>=1 else 0)\n",
    "df1_short.event_action.value_counts()"
   ]
  },
  {
   "cell_type": "markdown",
   "id": "135bfc2f",
   "metadata": {},
   "source": [
    "## 1.2. Sessions"
   ]
  },
  {
   "cell_type": "markdown",
   "id": "3b9723fb",
   "metadata": {},
   "source": [
    "**The initial data was loaded from the file.\\\n",
    "Duplicates removed.**"
   ]
  },
  {
   "cell_type": "markdown",
   "id": "4b88dcc2",
   "metadata": {},
   "source": [
    "**Data description:**\\\n",
    "session_id - visit ID;\\\n",
    "client_id - visitor ID;\\\n",
    "visit_date - visit date;\\\n",
    "visit_time - visit time;\\\n",
    "visit_number - client visit ordinal number;\\\n",
    "utm_source - acquisition channel;\\\n",
    "utm_medium - acquisition type;\\\n",
    "utm_campaign - advertising campaign;\\\n",
    "utm_adcontent - content;\\\n",
    "utm_keyword - keyword;\n",
    "device_category - device type;\\\n",
    "device_os - device OS;\\\n",
    "device_brand - device brand;\\\n",
    "device_model - device model;\\\n",
    "device_screen_resolution - screen resolution;\\\n",
    "device_browser - browser;\\\n",
    "geo_country - country;\\\n",
    "geo_city - city."
   ]
  },
  {
   "cell_type": "code",
   "execution_count": 9,
   "id": "9b5e945a",
   "metadata": {},
   "outputs": [
    {
     "data": {
      "text/html": [
       "<div>\n",
       "<style scoped>\n",
       "    .dataframe tbody tr th:only-of-type {\n",
       "        vertical-align: middle;\n",
       "    }\n",
       "\n",
       "    .dataframe tbody tr th {\n",
       "        vertical-align: top;\n",
       "    }\n",
       "\n",
       "    .dataframe thead th {\n",
       "        text-align: right;\n",
       "    }\n",
       "</style>\n",
       "<table border=\"1\" class=\"dataframe\">\n",
       "  <thead>\n",
       "    <tr style=\"text-align: right;\">\n",
       "      <th></th>\n",
       "      <th>session_id</th>\n",
       "      <th>client_id</th>\n",
       "      <th>visit_date</th>\n",
       "      <th>visit_time</th>\n",
       "      <th>visit_number</th>\n",
       "      <th>utm_source</th>\n",
       "      <th>utm_medium</th>\n",
       "      <th>utm_campaign</th>\n",
       "      <th>utm_adcontent</th>\n",
       "      <th>utm_keyword</th>\n",
       "      <th>device_category</th>\n",
       "      <th>device_os</th>\n",
       "      <th>device_brand</th>\n",
       "      <th>device_model</th>\n",
       "      <th>device_screen_resolution</th>\n",
       "      <th>device_browser</th>\n",
       "      <th>geo_country</th>\n",
       "      <th>geo_city</th>\n",
       "    </tr>\n",
       "  </thead>\n",
       "  <tbody>\n",
       "    <tr>\n",
       "      <th>0</th>\n",
       "      <td>9055434745589932991.1637753792.1637753792</td>\n",
       "      <td>2108382700.163776</td>\n",
       "      <td>2021-11-24</td>\n",
       "      <td>14:36:32</td>\n",
       "      <td>1</td>\n",
       "      <td>ZpYIoDJMcFzVoPFsHGJL</td>\n",
       "      <td>banner</td>\n",
       "      <td>LEoPHuyFvzoNfnzGgfcd</td>\n",
       "      <td>vCIpmpaGBnIQhyYNkXqp</td>\n",
       "      <td>puhZPIYqKXeFPaUviSjo</td>\n",
       "      <td>mobile</td>\n",
       "      <td>Android</td>\n",
       "      <td>Huawei</td>\n",
       "      <td>NaN</td>\n",
       "      <td>360x720</td>\n",
       "      <td>Chrome</td>\n",
       "      <td>Russia</td>\n",
       "      <td>Zlatoust</td>\n",
       "    </tr>\n",
       "    <tr>\n",
       "      <th>1</th>\n",
       "      <td>905544597018549464.1636867290.1636867290</td>\n",
       "      <td>210838531.163687</td>\n",
       "      <td>2021-11-14</td>\n",
       "      <td>08:21:30</td>\n",
       "      <td>1</td>\n",
       "      <td>MvfHsxITijuriZxsqZqt</td>\n",
       "      <td>cpm</td>\n",
       "      <td>FTjNLDyTrXaWYgZymFkV</td>\n",
       "      <td>xhoenQgDQsgfEPYNPwKO</td>\n",
       "      <td>IGUCNvHlhfHpROGclCit</td>\n",
       "      <td>mobile</td>\n",
       "      <td>Android</td>\n",
       "      <td>Samsung</td>\n",
       "      <td>NaN</td>\n",
       "      <td>385x854</td>\n",
       "      <td>Samsung Internet</td>\n",
       "      <td>Russia</td>\n",
       "      <td>Moscow</td>\n",
       "    </tr>\n",
       "    <tr>\n",
       "      <th>2</th>\n",
       "      <td>9055446045651783499.1640648526.1640648526</td>\n",
       "      <td>2108385331.164065</td>\n",
       "      <td>2021-12-28</td>\n",
       "      <td>02:42:06</td>\n",
       "      <td>1</td>\n",
       "      <td>ZpYIoDJMcFzVoPFsHGJL</td>\n",
       "      <td>banner</td>\n",
       "      <td>LEoPHuyFvzoNfnzGgfcd</td>\n",
       "      <td>vCIpmpaGBnIQhyYNkXqp</td>\n",
       "      <td>puhZPIYqKXeFPaUviSjo</td>\n",
       "      <td>mobile</td>\n",
       "      <td>Android</td>\n",
       "      <td>Huawei</td>\n",
       "      <td>NaN</td>\n",
       "      <td>360x720</td>\n",
       "      <td>Chrome</td>\n",
       "      <td>Russia</td>\n",
       "      <td>Krasnoyarsk</td>\n",
       "    </tr>\n",
       "    <tr>\n",
       "      <th>3</th>\n",
       "      <td>9055447046360770272.1622255328.1622255328</td>\n",
       "      <td>2108385564.162225</td>\n",
       "      <td>2021-05-29</td>\n",
       "      <td>05:00:00</td>\n",
       "      <td>1</td>\n",
       "      <td>kjsLglQLzykiRbcDiGcD</td>\n",
       "      <td>cpc</td>\n",
       "      <td>NaN</td>\n",
       "      <td>NOBKLgtuvqYWkXQHeYWM</td>\n",
       "      <td>NaN</td>\n",
       "      <td>mobile</td>\n",
       "      <td>NaN</td>\n",
       "      <td>Xiaomi</td>\n",
       "      <td>NaN</td>\n",
       "      <td>393x786</td>\n",
       "      <td>Chrome</td>\n",
       "      <td>Russia</td>\n",
       "      <td>Moscow</td>\n",
       "    </tr>\n",
       "    <tr>\n",
       "      <th>4</th>\n",
       "      <td>9055447046360770272.1622255345.1622255345</td>\n",
       "      <td>2108385564.162225</td>\n",
       "      <td>2021-05-29</td>\n",
       "      <td>05:00:00</td>\n",
       "      <td>2</td>\n",
       "      <td>kjsLglQLzykiRbcDiGcD</td>\n",
       "      <td>cpc</td>\n",
       "      <td>NaN</td>\n",
       "      <td>NaN</td>\n",
       "      <td>NaN</td>\n",
       "      <td>mobile</td>\n",
       "      <td>NaN</td>\n",
       "      <td>Xiaomi</td>\n",
       "      <td>NaN</td>\n",
       "      <td>393x786</td>\n",
       "      <td>Chrome</td>\n",
       "      <td>Russia</td>\n",
       "      <td>Moscow</td>\n",
       "    </tr>\n",
       "  </tbody>\n",
       "</table>\n",
       "</div>"
      ],
      "text/plain": [
       "                                  session_id          client_id  visit_date  \\\n",
       "0  9055434745589932991.1637753792.1637753792  2108382700.163776  2021-11-24   \n",
       "1   905544597018549464.1636867290.1636867290   210838531.163687  2021-11-14   \n",
       "2  9055446045651783499.1640648526.1640648526  2108385331.164065  2021-12-28   \n",
       "3  9055447046360770272.1622255328.1622255328  2108385564.162225  2021-05-29   \n",
       "4  9055447046360770272.1622255345.1622255345  2108385564.162225  2021-05-29   \n",
       "\n",
       "  visit_time  visit_number            utm_source utm_medium  \\\n",
       "0   14:36:32             1  ZpYIoDJMcFzVoPFsHGJL     banner   \n",
       "1   08:21:30             1  MvfHsxITijuriZxsqZqt        cpm   \n",
       "2   02:42:06             1  ZpYIoDJMcFzVoPFsHGJL     banner   \n",
       "3   05:00:00             1  kjsLglQLzykiRbcDiGcD        cpc   \n",
       "4   05:00:00             2  kjsLglQLzykiRbcDiGcD        cpc   \n",
       "\n",
       "           utm_campaign         utm_adcontent           utm_keyword  \\\n",
       "0  LEoPHuyFvzoNfnzGgfcd  vCIpmpaGBnIQhyYNkXqp  puhZPIYqKXeFPaUviSjo   \n",
       "1  FTjNLDyTrXaWYgZymFkV  xhoenQgDQsgfEPYNPwKO  IGUCNvHlhfHpROGclCit   \n",
       "2  LEoPHuyFvzoNfnzGgfcd  vCIpmpaGBnIQhyYNkXqp  puhZPIYqKXeFPaUviSjo   \n",
       "3                   NaN  NOBKLgtuvqYWkXQHeYWM                   NaN   \n",
       "4                   NaN                   NaN                   NaN   \n",
       "\n",
       "  device_category device_os device_brand device_model  \\\n",
       "0          mobile   Android       Huawei          NaN   \n",
       "1          mobile   Android      Samsung          NaN   \n",
       "2          mobile   Android       Huawei          NaN   \n",
       "3          mobile       NaN       Xiaomi          NaN   \n",
       "4          mobile       NaN       Xiaomi          NaN   \n",
       "\n",
       "  device_screen_resolution    device_browser geo_country     geo_city  \n",
       "0                  360x720            Chrome      Russia     Zlatoust  \n",
       "1                  385x854  Samsung Internet      Russia       Moscow  \n",
       "2                  360x720            Chrome      Russia  Krasnoyarsk  \n",
       "3                  393x786            Chrome      Russia       Moscow  \n",
       "4                  393x786            Chrome      Russia       Moscow  "
      ]
     },
     "execution_count": 9,
     "metadata": {},
     "output_type": "execute_result"
    }
   ],
   "source": [
    "df2 = pd.read_csv('./data/ga_sessions.csv')\n",
    "df2.head()"
   ]
  },
  {
   "cell_type": "code",
   "execution_count": 10,
   "id": "4d56680e",
   "metadata": {},
   "outputs": [
    {
     "name": "stdout",
     "output_type": "stream",
     "text": [
      "<class 'pandas.core.frame.DataFrame'>\n",
      "RangeIndex: 1860042 entries, 0 to 1860041\n",
      "Data columns (total 18 columns):\n",
      " #   Column                    Dtype \n",
      "---  ------                    ----- \n",
      " 0   session_id                object\n",
      " 1   client_id                 object\n",
      " 2   visit_date                object\n",
      " 3   visit_time                object\n",
      " 4   visit_number              int64 \n",
      " 5   utm_source                object\n",
      " 6   utm_medium                object\n",
      " 7   utm_campaign              object\n",
      " 8   utm_adcontent             object\n",
      " 9   utm_keyword               object\n",
      " 10  device_category           object\n",
      " 11  device_os                 object\n",
      " 12  device_brand              object\n",
      " 13  device_model              object\n",
      " 14  device_screen_resolution  object\n",
      " 15  device_browser            object\n",
      " 16  geo_country               object\n",
      " 17  geo_city                  object\n",
      "dtypes: int64(1), object(17)\n",
      "memory usage: 255.4+ MB\n"
     ]
    }
   ],
   "source": [
    "df2.info()"
   ]
  },
  {
   "cell_type": "code",
   "execution_count": 11,
   "id": "cd204260",
   "metadata": {},
   "outputs": [],
   "source": [
    "df2 = df2.drop_duplicates()"
   ]
  },
  {
   "cell_type": "markdown",
   "id": "4c82a2c1",
   "metadata": {},
   "source": [
    "## 1.3. Merge"
   ]
  },
  {
   "cell_type": "markdown",
   "id": "c25978b1",
   "metadata": {},
   "source": [
    "**Merging of two datasets was performed.\\\n",
    "Removed uninformative attributes**"
   ]
  },
  {
   "cell_type": "code",
   "execution_count": 18,
   "id": "8426e6e0",
   "metadata": {},
   "outputs": [
    {
     "data": {
      "text/html": [
       "<div>\n",
       "<style scoped>\n",
       "    .dataframe tbody tr th:only-of-type {\n",
       "        vertical-align: middle;\n",
       "    }\n",
       "\n",
       "    .dataframe tbody tr th {\n",
       "        vertical-align: top;\n",
       "    }\n",
       "\n",
       "    .dataframe thead th {\n",
       "        text-align: right;\n",
       "    }\n",
       "</style>\n",
       "<table border=\"1\" class=\"dataframe\">\n",
       "  <thead>\n",
       "    <tr style=\"text-align: right;\">\n",
       "      <th></th>\n",
       "      <th>session_id</th>\n",
       "      <th>client_id</th>\n",
       "      <th>visit_date</th>\n",
       "      <th>visit_time</th>\n",
       "      <th>visit_number</th>\n",
       "      <th>utm_source</th>\n",
       "      <th>utm_medium</th>\n",
       "      <th>utm_campaign</th>\n",
       "      <th>utm_adcontent</th>\n",
       "      <th>utm_keyword</th>\n",
       "      <th>device_category</th>\n",
       "      <th>device_os</th>\n",
       "      <th>device_brand</th>\n",
       "      <th>device_model</th>\n",
       "      <th>device_screen_resolution</th>\n",
       "      <th>device_browser</th>\n",
       "      <th>geo_country</th>\n",
       "      <th>geo_city</th>\n",
       "      <th>event_action</th>\n",
       "    </tr>\n",
       "  </thead>\n",
       "  <tbody>\n",
       "    <tr>\n",
       "      <th>69</th>\n",
       "      <td>9055768928391199041.1623652678.1623652678</td>\n",
       "      <td>2108460508.162365</td>\n",
       "      <td>2021-06-14</td>\n",
       "      <td>09:00:00</td>\n",
       "      <td>1</td>\n",
       "      <td>ZpYIoDJMcFzVoPFsHGJL</td>\n",
       "      <td>banner</td>\n",
       "      <td>LEoPHuyFvzoNfnzGgfcd</td>\n",
       "      <td>JNHcPlZPxEMWDnRiyoBf</td>\n",
       "      <td>NaN</td>\n",
       "      <td>mobile</td>\n",
       "      <td>NaN</td>\n",
       "      <td>Huawei</td>\n",
       "      <td>NaN</td>\n",
       "      <td>360x780</td>\n",
       "      <td>Chrome</td>\n",
       "      <td>Russia</td>\n",
       "      <td>Moscow</td>\n",
       "      <td>1</td>\n",
       "    </tr>\n",
       "    <tr>\n",
       "      <th>73</th>\n",
       "      <td>9055789093275396095.1636395007.1636395007</td>\n",
       "      <td>2108465203.16364</td>\n",
       "      <td>2021-11-08</td>\n",
       "      <td>21:10:07</td>\n",
       "      <td>1</td>\n",
       "      <td>ZpYIoDJMcFzVoPFsHGJL</td>\n",
       "      <td>banner</td>\n",
       "      <td>LEoPHuyFvzoNfnzGgfcd</td>\n",
       "      <td>JNHcPlZPxEMWDnRiyoBf</td>\n",
       "      <td>puhZPIYqKXeFPaUviSjo</td>\n",
       "      <td>mobile</td>\n",
       "      <td>iOS</td>\n",
       "      <td>Apple</td>\n",
       "      <td>NaN</td>\n",
       "      <td>414x736</td>\n",
       "      <td>Safari</td>\n",
       "      <td>Russia</td>\n",
       "      <td>Samara</td>\n",
       "      <td>1</td>\n",
       "    </tr>\n",
       "    <tr>\n",
       "      <th>76</th>\n",
       "      <td>9055794766915104430.1624305327.1624305327</td>\n",
       "      <td>2108466524.16243</td>\n",
       "      <td>2021-06-21</td>\n",
       "      <td>22:00:00</td>\n",
       "      <td>1</td>\n",
       "      <td>BHcvLfOaCWvWTykYqHVe</td>\n",
       "      <td>cpc</td>\n",
       "      <td>NaN</td>\n",
       "      <td>NaN</td>\n",
       "      <td>NaN</td>\n",
       "      <td>desktop</td>\n",
       "      <td>NaN</td>\n",
       "      <td>NaN</td>\n",
       "      <td>NaN</td>\n",
       "      <td>834x1112</td>\n",
       "      <td>Safari</td>\n",
       "      <td>Russia</td>\n",
       "      <td>Domodedovo</td>\n",
       "      <td>1</td>\n",
       "    </tr>\n",
       "    <tr>\n",
       "      <th>127</th>\n",
       "      <td>9056028189803556573.1630154471.1630154471</td>\n",
       "      <td>2108520872.163016</td>\n",
       "      <td>2021-08-28</td>\n",
       "      <td>15:00:00</td>\n",
       "      <td>1</td>\n",
       "      <td>fDLlAcSmythWSCVMvqvL</td>\n",
       "      <td>(none)</td>\n",
       "      <td>LTuZkdKfxRGVceoWkVyg</td>\n",
       "      <td>JNHcPlZPxEMWDnRiyoBf</td>\n",
       "      <td>NaN</td>\n",
       "      <td>mobile</td>\n",
       "      <td>NaN</td>\n",
       "      <td>Samsung</td>\n",
       "      <td>NaN</td>\n",
       "      <td>412x915</td>\n",
       "      <td>YaBrowser</td>\n",
       "      <td>Russia</td>\n",
       "      <td>Krasnodar</td>\n",
       "      <td>1</td>\n",
       "    </tr>\n",
       "    <tr>\n",
       "      <th>135</th>\n",
       "      <td>9056093322981390023.1628944098.1628944098</td>\n",
       "      <td>2108536037.162894</td>\n",
       "      <td>2021-08-14</td>\n",
       "      <td>15:00:00</td>\n",
       "      <td>1</td>\n",
       "      <td>ZpYIoDJMcFzVoPFsHGJL</td>\n",
       "      <td>banner</td>\n",
       "      <td>LEoPHuyFvzoNfnzGgfcd</td>\n",
       "      <td>JNHcPlZPxEMWDnRiyoBf</td>\n",
       "      <td>NaN</td>\n",
       "      <td>mobile</td>\n",
       "      <td>NaN</td>\n",
       "      <td>Samsung</td>\n",
       "      <td>NaN</td>\n",
       "      <td>360x740</td>\n",
       "      <td>Chrome</td>\n",
       "      <td>Russia</td>\n",
       "      <td>Moscow</td>\n",
       "      <td>1</td>\n",
       "    </tr>\n",
       "    <tr>\n",
       "      <th>...</th>\n",
       "      <td>...</td>\n",
       "      <td>...</td>\n",
       "      <td>...</td>\n",
       "      <td>...</td>\n",
       "      <td>...</td>\n",
       "      <td>...</td>\n",
       "      <td>...</td>\n",
       "      <td>...</td>\n",
       "      <td>...</td>\n",
       "      <td>...</td>\n",
       "      <td>...</td>\n",
       "      <td>...</td>\n",
       "      <td>...</td>\n",
       "      <td>...</td>\n",
       "      <td>...</td>\n",
       "      <td>...</td>\n",
       "      <td>...</td>\n",
       "      <td>...</td>\n",
       "      <td>...</td>\n",
       "    </tr>\n",
       "    <tr>\n",
       "      <th>1732152</th>\n",
       "      <td>9054912872702758664.1636781836.1636781836</td>\n",
       "      <td>2108261192.163678</td>\n",
       "      <td>2021-11-13</td>\n",
       "      <td>08:37:16</td>\n",
       "      <td>1</td>\n",
       "      <td>kjsLglQLzykiRbcDiGcD</td>\n",
       "      <td>cpc</td>\n",
       "      <td>LwJZxKuWmvOhPsaCeRjG</td>\n",
       "      <td>NaN</td>\n",
       "      <td>HKFjmDlYppkKqsWPogJt</td>\n",
       "      <td>mobile</td>\n",
       "      <td>Android</td>\n",
       "      <td>Xiaomi</td>\n",
       "      <td>NaN</td>\n",
       "      <td>360x800</td>\n",
       "      <td>Chrome</td>\n",
       "      <td>Russia</td>\n",
       "      <td>Moscow</td>\n",
       "      <td>1</td>\n",
       "    </tr>\n",
       "    <tr>\n",
       "      <th>1732225</th>\n",
       "      <td>9055248417020050011.1634073188.1634073188</td>\n",
       "      <td>2108339317.163408</td>\n",
       "      <td>2021-10-13</td>\n",
       "      <td>00:00:00</td>\n",
       "      <td>1</td>\n",
       "      <td>ZpYIoDJMcFzVoPFsHGJL</td>\n",
       "      <td>banner</td>\n",
       "      <td>SgIUDYUKnyWHVowUOqid</td>\n",
       "      <td>JNHcPlZPxEMWDnRiyoBf</td>\n",
       "      <td>NaN</td>\n",
       "      <td>mobile</td>\n",
       "      <td>NaN</td>\n",
       "      <td>Huawei</td>\n",
       "      <td>NaN</td>\n",
       "      <td>360x780</td>\n",
       "      <td>Chrome</td>\n",
       "      <td>Russia</td>\n",
       "      <td>Nizhny Novgorod</td>\n",
       "      <td>1</td>\n",
       "    </tr>\n",
       "    <tr>\n",
       "      <th>1732227</th>\n",
       "      <td>9055248417020050011.1634075541.1634075541</td>\n",
       "      <td>2108339317.163408</td>\n",
       "      <td>2021-10-13</td>\n",
       "      <td>00:00:00</td>\n",
       "      <td>3</td>\n",
       "      <td>ZpYIoDJMcFzVoPFsHGJL</td>\n",
       "      <td>banner</td>\n",
       "      <td>SgIUDYUKnyWHVowUOqid</td>\n",
       "      <td>JNHcPlZPxEMWDnRiyoBf</td>\n",
       "      <td>NaN</td>\n",
       "      <td>mobile</td>\n",
       "      <td>NaN</td>\n",
       "      <td>Huawei</td>\n",
       "      <td>NaN</td>\n",
       "      <td>360x780</td>\n",
       "      <td>Chrome</td>\n",
       "      <td>Russia</td>\n",
       "      <td>Nizhny Novgorod</td>\n",
       "      <td>1</td>\n",
       "    </tr>\n",
       "    <tr>\n",
       "      <th>1732254</th>\n",
       "      <td>9055376699099939975.1630766214.1630766214</td>\n",
       "      <td>2108369185.163077</td>\n",
       "      <td>2021-09-04</td>\n",
       "      <td>17:00:00</td>\n",
       "      <td>1</td>\n",
       "      <td>fDLlAcSmythWSCVMvqvL</td>\n",
       "      <td>(none)</td>\n",
       "      <td>LTuZkdKfxRGVceoWkVyg</td>\n",
       "      <td>JNHcPlZPxEMWDnRiyoBf</td>\n",
       "      <td>NaN</td>\n",
       "      <td>desktop</td>\n",
       "      <td>NaN</td>\n",
       "      <td>NaN</td>\n",
       "      <td>NaN</td>\n",
       "      <td>1920x1080</td>\n",
       "      <td>Chrome</td>\n",
       "      <td>Russia</td>\n",
       "      <td>Khimki</td>\n",
       "      <td>1</td>\n",
       "    </tr>\n",
       "    <tr>\n",
       "      <th>1732257</th>\n",
       "      <td>9055394269810294140.1629912447.1629912447</td>\n",
       "      <td>2108373276.162991</td>\n",
       "      <td>2021-08-25</td>\n",
       "      <td>20:00:00</td>\n",
       "      <td>1</td>\n",
       "      <td>bByPQxmDaMXgpHeypKSM</td>\n",
       "      <td>referral</td>\n",
       "      <td>LTuZkdKfxRGVceoWkVyg</td>\n",
       "      <td>JNHcPlZPxEMWDnRiyoBf</td>\n",
       "      <td>NaN</td>\n",
       "      <td>mobile</td>\n",
       "      <td>NaN</td>\n",
       "      <td>Samsung</td>\n",
       "      <td>NaN</td>\n",
       "      <td>360x800</td>\n",
       "      <td>Android Webview</td>\n",
       "      <td>Russia</td>\n",
       "      <td>Saint Petersburg</td>\n",
       "      <td>1</td>\n",
       "    </tr>\n",
       "  </tbody>\n",
       "</table>\n",
       "<p>50314 rows × 19 columns</p>\n",
       "</div>"
      ],
      "text/plain": [
       "                                        session_id          client_id  \\\n",
       "69       9055768928391199041.1623652678.1623652678  2108460508.162365   \n",
       "73       9055789093275396095.1636395007.1636395007   2108465203.16364   \n",
       "76       9055794766915104430.1624305327.1624305327   2108466524.16243   \n",
       "127      9056028189803556573.1630154471.1630154471  2108520872.163016   \n",
       "135      9056093322981390023.1628944098.1628944098  2108536037.162894   \n",
       "...                                            ...                ...   \n",
       "1732152  9054912872702758664.1636781836.1636781836  2108261192.163678   \n",
       "1732225  9055248417020050011.1634073188.1634073188  2108339317.163408   \n",
       "1732227  9055248417020050011.1634075541.1634075541  2108339317.163408   \n",
       "1732254  9055376699099939975.1630766214.1630766214  2108369185.163077   \n",
       "1732257  9055394269810294140.1629912447.1629912447  2108373276.162991   \n",
       "\n",
       "         visit_date visit_time  visit_number            utm_source utm_medium  \\\n",
       "69       2021-06-14   09:00:00             1  ZpYIoDJMcFzVoPFsHGJL     banner   \n",
       "73       2021-11-08   21:10:07             1  ZpYIoDJMcFzVoPFsHGJL     banner   \n",
       "76       2021-06-21   22:00:00             1  BHcvLfOaCWvWTykYqHVe        cpc   \n",
       "127      2021-08-28   15:00:00             1  fDLlAcSmythWSCVMvqvL     (none)   \n",
       "135      2021-08-14   15:00:00             1  ZpYIoDJMcFzVoPFsHGJL     banner   \n",
       "...             ...        ...           ...                   ...        ...   \n",
       "1732152  2021-11-13   08:37:16             1  kjsLglQLzykiRbcDiGcD        cpc   \n",
       "1732225  2021-10-13   00:00:00             1  ZpYIoDJMcFzVoPFsHGJL     banner   \n",
       "1732227  2021-10-13   00:00:00             3  ZpYIoDJMcFzVoPFsHGJL     banner   \n",
       "1732254  2021-09-04   17:00:00             1  fDLlAcSmythWSCVMvqvL     (none)   \n",
       "1732257  2021-08-25   20:00:00             1  bByPQxmDaMXgpHeypKSM   referral   \n",
       "\n",
       "                 utm_campaign         utm_adcontent           utm_keyword  \\\n",
       "69       LEoPHuyFvzoNfnzGgfcd  JNHcPlZPxEMWDnRiyoBf                   NaN   \n",
       "73       LEoPHuyFvzoNfnzGgfcd  JNHcPlZPxEMWDnRiyoBf  puhZPIYqKXeFPaUviSjo   \n",
       "76                        NaN                   NaN                   NaN   \n",
       "127      LTuZkdKfxRGVceoWkVyg  JNHcPlZPxEMWDnRiyoBf                   NaN   \n",
       "135      LEoPHuyFvzoNfnzGgfcd  JNHcPlZPxEMWDnRiyoBf                   NaN   \n",
       "...                       ...                   ...                   ...   \n",
       "1732152  LwJZxKuWmvOhPsaCeRjG                   NaN  HKFjmDlYppkKqsWPogJt   \n",
       "1732225  SgIUDYUKnyWHVowUOqid  JNHcPlZPxEMWDnRiyoBf                   NaN   \n",
       "1732227  SgIUDYUKnyWHVowUOqid  JNHcPlZPxEMWDnRiyoBf                   NaN   \n",
       "1732254  LTuZkdKfxRGVceoWkVyg  JNHcPlZPxEMWDnRiyoBf                   NaN   \n",
       "1732257  LTuZkdKfxRGVceoWkVyg  JNHcPlZPxEMWDnRiyoBf                   NaN   \n",
       "\n",
       "        device_category device_os device_brand device_model  \\\n",
       "69               mobile       NaN       Huawei          NaN   \n",
       "73               mobile       iOS        Apple          NaN   \n",
       "76              desktop       NaN          NaN          NaN   \n",
       "127              mobile       NaN      Samsung          NaN   \n",
       "135              mobile       NaN      Samsung          NaN   \n",
       "...                 ...       ...          ...          ...   \n",
       "1732152          mobile   Android       Xiaomi          NaN   \n",
       "1732225          mobile       NaN       Huawei          NaN   \n",
       "1732227          mobile       NaN       Huawei          NaN   \n",
       "1732254         desktop       NaN          NaN          NaN   \n",
       "1732257          mobile       NaN      Samsung          NaN   \n",
       "\n",
       "        device_screen_resolution   device_browser geo_country  \\\n",
       "69                       360x780           Chrome      Russia   \n",
       "73                       414x736           Safari      Russia   \n",
       "76                      834x1112           Safari      Russia   \n",
       "127                      412x915        YaBrowser      Russia   \n",
       "135                      360x740           Chrome      Russia   \n",
       "...                          ...              ...         ...   \n",
       "1732152                  360x800           Chrome      Russia   \n",
       "1732225                  360x780           Chrome      Russia   \n",
       "1732227                  360x780           Chrome      Russia   \n",
       "1732254                1920x1080           Chrome      Russia   \n",
       "1732257                  360x800  Android Webview      Russia   \n",
       "\n",
       "                 geo_city  event_action  \n",
       "69                 Moscow             1  \n",
       "73                 Samara             1  \n",
       "76             Domodedovo             1  \n",
       "127             Krasnodar             1  \n",
       "135                Moscow             1  \n",
       "...                   ...           ...  \n",
       "1732152            Moscow             1  \n",
       "1732225   Nizhny Novgorod             1  \n",
       "1732227   Nizhny Novgorod             1  \n",
       "1732254            Khimki             1  \n",
       "1732257  Saint Petersburg             1  \n",
       "\n",
       "[50314 rows x 19 columns]"
      ]
     },
     "execution_count": 18,
     "metadata": {},
     "output_type": "execute_result"
    }
   ],
   "source": [
    "df[df.event_action  == 1]"
   ]
  },
  {
   "cell_type": "code",
   "execution_count": 12,
   "id": "6342a004",
   "metadata": {
    "scrolled": true
   },
   "outputs": [
    {
     "data": {
      "text/html": [
       "<div>\n",
       "<style scoped>\n",
       "    .dataframe tbody tr th:only-of-type {\n",
       "        vertical-align: middle;\n",
       "    }\n",
       "\n",
       "    .dataframe tbody tr th {\n",
       "        vertical-align: top;\n",
       "    }\n",
       "\n",
       "    .dataframe thead th {\n",
       "        text-align: right;\n",
       "    }\n",
       "</style>\n",
       "<table border=\"1\" class=\"dataframe\">\n",
       "  <thead>\n",
       "    <tr style=\"text-align: right;\">\n",
       "      <th></th>\n",
       "      <th>session_id</th>\n",
       "      <th>client_id</th>\n",
       "      <th>visit_date</th>\n",
       "      <th>visit_time</th>\n",
       "      <th>visit_number</th>\n",
       "      <th>utm_source</th>\n",
       "      <th>utm_medium</th>\n",
       "      <th>utm_campaign</th>\n",
       "      <th>utm_adcontent</th>\n",
       "      <th>utm_keyword</th>\n",
       "      <th>device_category</th>\n",
       "      <th>device_os</th>\n",
       "      <th>device_brand</th>\n",
       "      <th>device_model</th>\n",
       "      <th>device_screen_resolution</th>\n",
       "      <th>device_browser</th>\n",
       "      <th>geo_country</th>\n",
       "      <th>geo_city</th>\n",
       "      <th>event_action</th>\n",
       "    </tr>\n",
       "  </thead>\n",
       "  <tbody>\n",
       "    <tr>\n",
       "      <th>0</th>\n",
       "      <td>9055434745589932991.1637753792.1637753792</td>\n",
       "      <td>2108382700.163776</td>\n",
       "      <td>2021-11-24</td>\n",
       "      <td>14:36:32</td>\n",
       "      <td>1</td>\n",
       "      <td>ZpYIoDJMcFzVoPFsHGJL</td>\n",
       "      <td>banner</td>\n",
       "      <td>LEoPHuyFvzoNfnzGgfcd</td>\n",
       "      <td>vCIpmpaGBnIQhyYNkXqp</td>\n",
       "      <td>puhZPIYqKXeFPaUviSjo</td>\n",
       "      <td>mobile</td>\n",
       "      <td>Android</td>\n",
       "      <td>Huawei</td>\n",
       "      <td>NaN</td>\n",
       "      <td>360x720</td>\n",
       "      <td>Chrome</td>\n",
       "      <td>Russia</td>\n",
       "      <td>Zlatoust</td>\n",
       "      <td>0</td>\n",
       "    </tr>\n",
       "    <tr>\n",
       "      <th>1</th>\n",
       "      <td>905544597018549464.1636867290.1636867290</td>\n",
       "      <td>210838531.163687</td>\n",
       "      <td>2021-11-14</td>\n",
       "      <td>08:21:30</td>\n",
       "      <td>1</td>\n",
       "      <td>MvfHsxITijuriZxsqZqt</td>\n",
       "      <td>cpm</td>\n",
       "      <td>FTjNLDyTrXaWYgZymFkV</td>\n",
       "      <td>xhoenQgDQsgfEPYNPwKO</td>\n",
       "      <td>IGUCNvHlhfHpROGclCit</td>\n",
       "      <td>mobile</td>\n",
       "      <td>Android</td>\n",
       "      <td>Samsung</td>\n",
       "      <td>NaN</td>\n",
       "      <td>385x854</td>\n",
       "      <td>Samsung Internet</td>\n",
       "      <td>Russia</td>\n",
       "      <td>Moscow</td>\n",
       "      <td>0</td>\n",
       "    </tr>\n",
       "    <tr>\n",
       "      <th>2</th>\n",
       "      <td>9055446045651783499.1640648526.1640648526</td>\n",
       "      <td>2108385331.164065</td>\n",
       "      <td>2021-12-28</td>\n",
       "      <td>02:42:06</td>\n",
       "      <td>1</td>\n",
       "      <td>ZpYIoDJMcFzVoPFsHGJL</td>\n",
       "      <td>banner</td>\n",
       "      <td>LEoPHuyFvzoNfnzGgfcd</td>\n",
       "      <td>vCIpmpaGBnIQhyYNkXqp</td>\n",
       "      <td>puhZPIYqKXeFPaUviSjo</td>\n",
       "      <td>mobile</td>\n",
       "      <td>Android</td>\n",
       "      <td>Huawei</td>\n",
       "      <td>NaN</td>\n",
       "      <td>360x720</td>\n",
       "      <td>Chrome</td>\n",
       "      <td>Russia</td>\n",
       "      <td>Krasnoyarsk</td>\n",
       "      <td>0</td>\n",
       "    </tr>\n",
       "    <tr>\n",
       "      <th>3</th>\n",
       "      <td>9055447046360770272.1622255328.1622255328</td>\n",
       "      <td>2108385564.162225</td>\n",
       "      <td>2021-05-29</td>\n",
       "      <td>05:00:00</td>\n",
       "      <td>1</td>\n",
       "      <td>kjsLglQLzykiRbcDiGcD</td>\n",
       "      <td>cpc</td>\n",
       "      <td>NaN</td>\n",
       "      <td>NOBKLgtuvqYWkXQHeYWM</td>\n",
       "      <td>NaN</td>\n",
       "      <td>mobile</td>\n",
       "      <td>NaN</td>\n",
       "      <td>Xiaomi</td>\n",
       "      <td>NaN</td>\n",
       "      <td>393x786</td>\n",
       "      <td>Chrome</td>\n",
       "      <td>Russia</td>\n",
       "      <td>Moscow</td>\n",
       "      <td>0</td>\n",
       "    </tr>\n",
       "    <tr>\n",
       "      <th>4</th>\n",
       "      <td>9055447046360770272.1622255345.1622255345</td>\n",
       "      <td>2108385564.162225</td>\n",
       "      <td>2021-05-29</td>\n",
       "      <td>05:00:00</td>\n",
       "      <td>2</td>\n",
       "      <td>kjsLglQLzykiRbcDiGcD</td>\n",
       "      <td>cpc</td>\n",
       "      <td>NaN</td>\n",
       "      <td>NaN</td>\n",
       "      <td>NaN</td>\n",
       "      <td>mobile</td>\n",
       "      <td>NaN</td>\n",
       "      <td>Xiaomi</td>\n",
       "      <td>NaN</td>\n",
       "      <td>393x786</td>\n",
       "      <td>Chrome</td>\n",
       "      <td>Russia</td>\n",
       "      <td>Moscow</td>\n",
       "      <td>0</td>\n",
       "    </tr>\n",
       "  </tbody>\n",
       "</table>\n",
       "</div>"
      ],
      "text/plain": [
       "                                  session_id          client_id  visit_date  \\\n",
       "0  9055434745589932991.1637753792.1637753792  2108382700.163776  2021-11-24   \n",
       "1   905544597018549464.1636867290.1636867290   210838531.163687  2021-11-14   \n",
       "2  9055446045651783499.1640648526.1640648526  2108385331.164065  2021-12-28   \n",
       "3  9055447046360770272.1622255328.1622255328  2108385564.162225  2021-05-29   \n",
       "4  9055447046360770272.1622255345.1622255345  2108385564.162225  2021-05-29   \n",
       "\n",
       "  visit_time  visit_number            utm_source utm_medium  \\\n",
       "0   14:36:32             1  ZpYIoDJMcFzVoPFsHGJL     banner   \n",
       "1   08:21:30             1  MvfHsxITijuriZxsqZqt        cpm   \n",
       "2   02:42:06             1  ZpYIoDJMcFzVoPFsHGJL     banner   \n",
       "3   05:00:00             1  kjsLglQLzykiRbcDiGcD        cpc   \n",
       "4   05:00:00             2  kjsLglQLzykiRbcDiGcD        cpc   \n",
       "\n",
       "           utm_campaign         utm_adcontent           utm_keyword  \\\n",
       "0  LEoPHuyFvzoNfnzGgfcd  vCIpmpaGBnIQhyYNkXqp  puhZPIYqKXeFPaUviSjo   \n",
       "1  FTjNLDyTrXaWYgZymFkV  xhoenQgDQsgfEPYNPwKO  IGUCNvHlhfHpROGclCit   \n",
       "2  LEoPHuyFvzoNfnzGgfcd  vCIpmpaGBnIQhyYNkXqp  puhZPIYqKXeFPaUviSjo   \n",
       "3                   NaN  NOBKLgtuvqYWkXQHeYWM                   NaN   \n",
       "4                   NaN                   NaN                   NaN   \n",
       "\n",
       "  device_category device_os device_brand device_model  \\\n",
       "0          mobile   Android       Huawei          NaN   \n",
       "1          mobile   Android      Samsung          NaN   \n",
       "2          mobile   Android       Huawei          NaN   \n",
       "3          mobile       NaN       Xiaomi          NaN   \n",
       "4          mobile       NaN       Xiaomi          NaN   \n",
       "\n",
       "  device_screen_resolution    device_browser geo_country     geo_city  \\\n",
       "0                  360x720            Chrome      Russia     Zlatoust   \n",
       "1                  385x854  Samsung Internet      Russia       Moscow   \n",
       "2                  360x720            Chrome      Russia  Krasnoyarsk   \n",
       "3                  393x786            Chrome      Russia       Moscow   \n",
       "4                  393x786            Chrome      Russia       Moscow   \n",
       "\n",
       "   event_action  \n",
       "0             0  \n",
       "1             0  \n",
       "2             0  \n",
       "3             0  \n",
       "4             0  "
      ]
     },
     "execution_count": 12,
     "metadata": {},
     "output_type": "execute_result"
    }
   ],
   "source": [
    "df = pd.merge(left=df2, right=df1_short, on='session_id', how='inner')\n",
    "df.head()"
   ]
  },
  {
   "cell_type": "code",
   "execution_count": 13,
   "id": "c35d8d2d",
   "metadata": {},
   "outputs": [
    {
     "data": {
      "text/plain": [
       "(1732266, 19)"
      ]
     },
     "execution_count": 13,
     "metadata": {},
     "output_type": "execute_result"
    }
   ],
   "source": [
    "df.shape"
   ]
  },
  {
   "cell_type": "code",
   "execution_count": 14,
   "id": "fbf35c5a",
   "metadata": {},
   "outputs": [
    {
     "data": {
      "text/plain": [
       "device_model                99.130503\n",
       "utm_keyword                 58.925823\n",
       "device_os                   58.533966\n",
       "device_brand                20.042880\n",
       "utm_adcontent               17.557177\n",
       "utm_campaign                11.273500\n",
       "utm_source                   0.004387\n",
       "geo_city                     0.000000\n",
       "geo_country                  0.000000\n",
       "device_browser               0.000000\n",
       "device_screen_resolution     0.000000\n",
       "session_id                   0.000000\n",
       "device_category              0.000000\n",
       "client_id                    0.000000\n",
       "utm_medium                   0.000000\n",
       "visit_number                 0.000000\n",
       "visit_time                   0.000000\n",
       "visit_date                   0.000000\n",
       "event_action                 0.000000\n",
       "dtype: float64"
      ]
     },
     "execution_count": 14,
     "metadata": {},
     "output_type": "execute_result"
    }
   ],
   "source": [
    "missing_values = (df.isna().sum() / len(df) * 100).sort_values(ascending=False)\n",
    "missing_values"
   ]
  },
  {
   "cell_type": "code",
   "execution_count": 15,
   "id": "0c41dbad",
   "metadata": {},
   "outputs": [
    {
     "data": {
      "text/html": [
       "<div>\n",
       "<style scoped>\n",
       "    .dataframe tbody tr th:only-of-type {\n",
       "        vertical-align: middle;\n",
       "    }\n",
       "\n",
       "    .dataframe tbody tr th {\n",
       "        vertical-align: top;\n",
       "    }\n",
       "\n",
       "    .dataframe thead th {\n",
       "        text-align: right;\n",
       "    }\n",
       "</style>\n",
       "<table border=\"1\" class=\"dataframe\">\n",
       "  <thead>\n",
       "    <tr style=\"text-align: right;\">\n",
       "      <th></th>\n",
       "      <th>visit_date</th>\n",
       "      <th>visit_number</th>\n",
       "      <th>utm_source</th>\n",
       "      <th>utm_medium</th>\n",
       "      <th>utm_campaign</th>\n",
       "      <th>utm_adcontent</th>\n",
       "      <th>utm_keyword</th>\n",
       "      <th>device_category</th>\n",
       "      <th>device_brand</th>\n",
       "      <th>geo_country</th>\n",
       "      <th>geo_city</th>\n",
       "      <th>event_action</th>\n",
       "    </tr>\n",
       "  </thead>\n",
       "  <tbody>\n",
       "    <tr>\n",
       "      <th>0</th>\n",
       "      <td>2021-11-24</td>\n",
       "      <td>1</td>\n",
       "      <td>ZpYIoDJMcFzVoPFsHGJL</td>\n",
       "      <td>banner</td>\n",
       "      <td>LEoPHuyFvzoNfnzGgfcd</td>\n",
       "      <td>vCIpmpaGBnIQhyYNkXqp</td>\n",
       "      <td>puhZPIYqKXeFPaUviSjo</td>\n",
       "      <td>mobile</td>\n",
       "      <td>Huawei</td>\n",
       "      <td>Russia</td>\n",
       "      <td>Zlatoust</td>\n",
       "      <td>0</td>\n",
       "    </tr>\n",
       "    <tr>\n",
       "      <th>1</th>\n",
       "      <td>2021-11-14</td>\n",
       "      <td>1</td>\n",
       "      <td>MvfHsxITijuriZxsqZqt</td>\n",
       "      <td>cpm</td>\n",
       "      <td>FTjNLDyTrXaWYgZymFkV</td>\n",
       "      <td>xhoenQgDQsgfEPYNPwKO</td>\n",
       "      <td>IGUCNvHlhfHpROGclCit</td>\n",
       "      <td>mobile</td>\n",
       "      <td>Samsung</td>\n",
       "      <td>Russia</td>\n",
       "      <td>Moscow</td>\n",
       "      <td>0</td>\n",
       "    </tr>\n",
       "    <tr>\n",
       "      <th>2</th>\n",
       "      <td>2021-12-28</td>\n",
       "      <td>1</td>\n",
       "      <td>ZpYIoDJMcFzVoPFsHGJL</td>\n",
       "      <td>banner</td>\n",
       "      <td>LEoPHuyFvzoNfnzGgfcd</td>\n",
       "      <td>vCIpmpaGBnIQhyYNkXqp</td>\n",
       "      <td>puhZPIYqKXeFPaUviSjo</td>\n",
       "      <td>mobile</td>\n",
       "      <td>Huawei</td>\n",
       "      <td>Russia</td>\n",
       "      <td>Krasnoyarsk</td>\n",
       "      <td>0</td>\n",
       "    </tr>\n",
       "    <tr>\n",
       "      <th>3</th>\n",
       "      <td>2021-05-29</td>\n",
       "      <td>1</td>\n",
       "      <td>kjsLglQLzykiRbcDiGcD</td>\n",
       "      <td>cpc</td>\n",
       "      <td>NaN</td>\n",
       "      <td>NOBKLgtuvqYWkXQHeYWM</td>\n",
       "      <td>NaN</td>\n",
       "      <td>mobile</td>\n",
       "      <td>Xiaomi</td>\n",
       "      <td>Russia</td>\n",
       "      <td>Moscow</td>\n",
       "      <td>0</td>\n",
       "    </tr>\n",
       "    <tr>\n",
       "      <th>4</th>\n",
       "      <td>2021-05-29</td>\n",
       "      <td>2</td>\n",
       "      <td>kjsLglQLzykiRbcDiGcD</td>\n",
       "      <td>cpc</td>\n",
       "      <td>NaN</td>\n",
       "      <td>NaN</td>\n",
       "      <td>NaN</td>\n",
       "      <td>mobile</td>\n",
       "      <td>Xiaomi</td>\n",
       "      <td>Russia</td>\n",
       "      <td>Moscow</td>\n",
       "      <td>0</td>\n",
       "    </tr>\n",
       "  </tbody>\n",
       "</table>\n",
       "</div>"
      ],
      "text/plain": [
       "   visit_date  visit_number            utm_source utm_medium  \\\n",
       "0  2021-11-24             1  ZpYIoDJMcFzVoPFsHGJL     banner   \n",
       "1  2021-11-14             1  MvfHsxITijuriZxsqZqt        cpm   \n",
       "2  2021-12-28             1  ZpYIoDJMcFzVoPFsHGJL     banner   \n",
       "3  2021-05-29             1  kjsLglQLzykiRbcDiGcD        cpc   \n",
       "4  2021-05-29             2  kjsLglQLzykiRbcDiGcD        cpc   \n",
       "\n",
       "           utm_campaign         utm_adcontent           utm_keyword  \\\n",
       "0  LEoPHuyFvzoNfnzGgfcd  vCIpmpaGBnIQhyYNkXqp  puhZPIYqKXeFPaUviSjo   \n",
       "1  FTjNLDyTrXaWYgZymFkV  xhoenQgDQsgfEPYNPwKO  IGUCNvHlhfHpROGclCit   \n",
       "2  LEoPHuyFvzoNfnzGgfcd  vCIpmpaGBnIQhyYNkXqp  puhZPIYqKXeFPaUviSjo   \n",
       "3                   NaN  NOBKLgtuvqYWkXQHeYWM                   NaN   \n",
       "4                   NaN                   NaN                   NaN   \n",
       "\n",
       "  device_category device_brand geo_country     geo_city  event_action  \n",
       "0          mobile       Huawei      Russia     Zlatoust             0  \n",
       "1          mobile      Samsung      Russia       Moscow             0  \n",
       "2          mobile       Huawei      Russia  Krasnoyarsk             0  \n",
       "3          mobile       Xiaomi      Russia       Moscow             0  \n",
       "4          mobile       Xiaomi      Russia       Moscow             0  "
      ]
     },
     "execution_count": 15,
     "metadata": {},
     "output_type": "execute_result"
    }
   ],
   "source": [
    "# Remove uninformative columns\n",
    "df_new = df.drop(columns=['session_id', 'client_id', 'device_os', 'visit_time', 'device_model',\n",
    "                          'device_screen_resolution', 'device_browser'])\n",
    "df_new.head()"
   ]
  },
  {
   "cell_type": "code",
   "execution_count": 16,
   "id": "7f5a25a5",
   "metadata": {},
   "outputs": [],
   "source": [
    "df_new.to_csv('./data/df_new.csv', index=False)"
   ]
  },
  {
   "cell_type": "markdown",
   "id": "1b3805b8",
   "metadata": {},
   "source": [
    "# 2. Data Preparation"
   ]
  },
  {
   "cell_type": "code",
   "execution_count": 18,
   "id": "6bb24785",
   "metadata": {},
   "outputs": [],
   "source": [
    "df_train, df_test = train_test_split(df_new, stratify=df_new['event_action'], test_size=0.3, random_state=42)"
   ]
  },
  {
   "cell_type": "markdown",
   "id": "605b3144",
   "metadata": {
    "heading_collapsed": true
   },
   "source": [
    "## 2.1. Data Сleaning"
   ]
  },
  {
   "cell_type": "markdown",
   "id": "354b2306",
   "metadata": {
    "hidden": true
   },
   "source": [
    "**Some attributes with NaN were filled with a constant and some with a mode.\\\n",
    "Replaced unassigned values with \"other\".**"
   ]
  },
  {
   "cell_type": "code",
   "execution_count": 19,
   "id": "0050f595",
   "metadata": {
    "hidden": true
   },
   "outputs": [
    {
     "data": {
      "text/plain": [
       "utm_keyword        58.913017\n",
       "device_brand       20.042372\n",
       "utm_adcontent      17.521231\n",
       "utm_campaign       11.249924\n",
       "utm_source          0.004536\n",
       "visit_date          0.000000\n",
       "visit_number        0.000000\n",
       "utm_medium          0.000000\n",
       "device_category     0.000000\n",
       "geo_country         0.000000\n",
       "geo_city            0.000000\n",
       "event_action        0.000000\n",
       "dtype: float64"
      ]
     },
     "execution_count": 19,
     "metadata": {},
     "output_type": "execute_result"
    }
   ],
   "source": [
    "missing_values = (df_train.isna().sum() / len(df_train) * 100).sort_values(ascending=False)\n",
    "missing_values"
   ]
  },
  {
   "cell_type": "code",
   "execution_count": 20,
   "id": "edc2da3f",
   "metadata": {
    "hidden": true,
    "scrolled": true
   },
   "outputs": [
    {
     "name": "stdout",
     "output_type": "stream",
     "text": [
      "\n",
      "\n",
      "Value counts for: \"visit_date\"\n",
      "2021-05-24    27531\n",
      "2021-12-21    20940\n",
      "2021-05-25    13374\n",
      "2021-06-29    11793\n",
      "2021-09-14    11020\n",
      "              ...  \n",
      "2021-06-05     1426\n",
      "2021-05-23      787\n",
      "2021-05-21      565\n",
      "2021-05-22      535\n",
      "2021-05-19      504\n",
      "Name: visit_date, Length: 226, dtype: int64\n",
      "\n",
      "\n",
      "Value counts for: \"visit_number\"\n",
      "1      910929\n",
      "2      148587\n",
      "3       50325\n",
      "4       25627\n",
      "5       15122\n",
      "        ...  \n",
      "534         1\n",
      "401         1\n",
      "387         1\n",
      "495         1\n",
      "354         1\n",
      "Name: visit_number, Length: 485, dtype: int64\n",
      "\n",
      "\n",
      "Value counts for: \"utm_source\"\n",
      "ZpYIoDJMcFzVoPFsHGJL    386984\n",
      "fDLlAcSmythWSCVMvqvL    194278\n",
      "kjsLglQLzykiRbcDiGcD    171274\n",
      "MvfHsxITijuriZxsqZqt    123168\n",
      "BHcvLfOaCWvWTykYqHVe     77751\n",
      "                         ...  \n",
      "JcVHXwVSrnfIuOMMEkrJ         1\n",
      "zGUBrOvMRpLqBkJPUsYo         1\n",
      "SHJidRpqXditMCUeEFzb         1\n",
      "labpJCBQmsoWLfQvNTak         1\n",
      "VdeFdoGCqZBxFfKSHNLl         1\n",
      "Name: utm_source, Length: 255, dtype: int64\n",
      "\n",
      "\n",
      "Value counts for: \"utm_medium\"\n",
      "banner               367697\n",
      "cpc                  279047\n",
      "(none)               194278\n",
      "cpm                  160851\n",
      "referral              95830\n",
      "organic               38641\n",
      "email                 19837\n",
      "push                  19462\n",
      "stories                7327\n",
      "cpv                    5449\n",
      "blogger_channel        5405\n",
      "smartbanner            4518\n",
      "blogger_stories        2955\n",
      "tg                     2718\n",
      "cpa                    2227\n",
      "post                   1557\n",
      "outlook                 900\n",
      "app                     839\n",
      "smm                     830\n",
      "clicks                  630\n",
      "blogger_header          557\n",
      "(not set)               281\n",
      "info_text               237\n",
      "sms                     140\n",
      "landing                  93\n",
      "partner                  69\n",
      "link                     39\n",
      "cbaafe                   24\n",
      "CPM                      23\n",
      "vk_smm                   22\n",
      "yandex_cpc               20\n",
      "article                  11\n",
      "static                   10\n",
      "web_polka                10\n",
      "google_cpc               10\n",
      "ok_smm                    6\n",
      "fb_smm                    5\n",
      "nkp                       5\n",
      "medium                    5\n",
      "social                    4\n",
      "catalogue                 4\n",
      "main_polka                2\n",
      "linktest                  2\n",
      "promo_sber                2\n",
      "tablet                    1\n",
      "last                      1\n",
      "promo_sbol                1\n",
      "users_msk                 1\n",
      "reach                     1\n",
      "Sbol_catalog              1\n",
      "landing_interests         1\n",
      "Name: utm_medium, dtype: int64\n",
      "\n",
      "\n",
      "Value counts for: \"utm_campaign\"\n",
      "LTuZkdKfxRGVceoWkVyg    296527\n",
      "LEoPHuyFvzoNfnzGgfcd    225043\n",
      "FTjNLDyTrXaWYgZymFkV    164433\n",
      "gecBYcKZCPMcVYdSSzKP     93182\n",
      "XHNUiSKKGTEpSAlaVMFQ     16653\n",
      "                         ...  \n",
      "cqgnjDbqrtCipVvzhxqa         1\n",
      "VbwhIlTuTQfiffXsGgWV         1\n",
      "zFCiMWkbbAhTflrlLWnz         1\n",
      "UgWjaOmKUxPFucSbwvSq         1\n",
      "vzVHtUqdxJZtwimyfRnw         1\n",
      "Name: utm_campaign, Length: 395, dtype: int64\n",
      "\n",
      "\n",
      "Value counts for: \"utm_adcontent\"\n",
      "JNHcPlZPxEMWDnRiyoBf    655390\n",
      "vCIpmpaGBnIQhyYNkXqp    125422\n",
      "xhoenQgDQsgfEPYNPwKO     73184\n",
      "PkybGvWbaqORmxjNunqZ     41300\n",
      "LLfCasrxQzJIyuldcuWy     12714\n",
      "                         ...  \n",
      "JqrDmBADqCajaFvukKzI         1\n",
      "IAqWuWhXZIfXqjKPNTbC         1\n",
      "uBUwgolUDgFUqOyprsyw         1\n",
      "TgZzBQZcuXJiamjvEtZk         1\n",
      "cnqeKMAxlNzlImHJTOns         1\n",
      "Name: utm_adcontent, Length: 262, dtype: int64\n",
      "\n",
      "\n",
      "Value counts for: \"utm_keyword\"\n",
      "puhZPIYqKXeFPaUviSjo    326301\n",
      "aXQzDWsJuGXeBXexNHjc     12725\n",
      "ITfrGJNwVsHBGJMAKoct      8662\n",
      "pHqgLcdBQPSLcrTpLkdr      8586\n",
      "hAmNSZmQkKQKAjZEGlgb      7264\n",
      "                         ...  \n",
      "CErkgqGYlEmQzybAeNGe         1\n",
      "SVgtRXtJAnTJGHMmQaSp         1\n",
      "emDNnBpbOdOKqSVxTjyx         1\n",
      "WlbWUObZWvsimzdFdLYw         1\n",
      "FTAuYVNoYYxgvKMpKSLW         1\n",
      "Name: utm_keyword, Length: 1113, dtype: int64\n",
      "\n",
      "\n",
      "Value counts for: \"device_category\"\n",
      "mobile     958044\n",
      "desktop    242832\n",
      "tablet      11710\n",
      "Name: device_category, dtype: int64\n",
      "\n",
      "\n",
      "Value counts for: \"device_brand\"\n",
      "Apple        352629\n",
      "Samsung      218281\n",
      "Xiaomi       188225\n",
      "Huawei       121478\n",
      "Realme        12471\n",
      "              ...  \n",
      "Itoos             1\n",
      "Honor             1\n",
      "Mobiistar         1\n",
      "Cube              1\n",
      "FREETEL           1\n",
      "Name: device_brand, Length: 182, dtype: int64\n",
      "\n",
      "\n",
      "Value counts for: \"geo_country\"\n",
      "Russia           1177682\n",
      "Ukraine             5995\n",
      "United States       5695\n",
      "Belarus             2412\n",
      "Kazakhstan          1487\n",
      "                  ...   \n",
      "Puerto Rico            1\n",
      "Guernsey               1\n",
      "Paraguay               1\n",
      "Burundi                1\n",
      "Zimbabwe               1\n",
      "Name: geo_country, Length: 153, dtype: int64\n",
      "\n",
      "\n",
      "Value counts for: \"geo_city\"\n",
      "Moscow                      525368\n",
      "Saint Petersburg            195070\n",
      "(not set)                    51179\n",
      "Yekaterinburg                23570\n",
      "Krasnodar                    21169\n",
      "                             ...  \n",
      "Basildon                         1\n",
      "Voronezjskaja                    1\n",
      "San Benedetto del Tronto         1\n",
      "Hemer                            1\n",
      "Brandon                          1\n",
      "Name: geo_city, Length: 2099, dtype: int64\n",
      "\n",
      "\n",
      "Value counts for: \"event_action\"\n",
      "0    1177366\n",
      "1      35220\n",
      "Name: event_action, dtype: int64\n"
     ]
    }
   ],
   "source": [
    "for column in df_train.columns:\n",
    "    print(\n",
    "        f'\\n\\nValue counts for: \"{column}\"\\n'\n",
    "        f'{df_train[column].value_counts()}')"
   ]
  },
  {
   "cell_type": "code",
   "execution_count": 21,
   "id": "b06f9583",
   "metadata": {
    "hidden": true
   },
   "outputs": [],
   "source": [
    "imp_const_other = SimpleImputer(strategy='constant', fill_value='other')\n",
    "\n",
    "columns_const = ['utm_source', 'utm_campaign', 'utm_adcontent', 'device_brand', 'utm_keyword']\n",
    "\n",
    "df_train[columns_const] = imp_const_other.fit_transform(df_train[columns_const])\n",
    "df_test[columns_const] = imp_const_other.transform(df_test[columns_const])"
   ]
  },
  {
   "cell_type": "code",
   "execution_count": 22,
   "id": "c5a78a3b",
   "metadata": {
    "hidden": true
   },
   "outputs": [
    {
     "data": {
      "text/plain": [
       "visit_date         0.0\n",
       "visit_number       0.0\n",
       "utm_source         0.0\n",
       "utm_medium         0.0\n",
       "utm_campaign       0.0\n",
       "utm_adcontent      0.0\n",
       "utm_keyword        0.0\n",
       "device_category    0.0\n",
       "device_brand       0.0\n",
       "geo_country        0.0\n",
       "geo_city           0.0\n",
       "event_action       0.0\n",
       "dtype: float64"
      ]
     },
     "execution_count": 22,
     "metadata": {},
     "output_type": "execute_result"
    }
   ],
   "source": [
    "missing_values = (df_train.isna().sum() / len(df_train) * 100).sort_values(ascending=False)\n",
    "missing_values"
   ]
  },
  {
   "cell_type": "code",
   "execution_count": 23,
   "id": "2d17aa37",
   "metadata": {
    "hidden": true
   },
   "outputs": [],
   "source": [
    "df_train['utm_medium'] = df_train['utm_medium'].apply(lambda x: x.replace('(not set)', 'other').replace('(none)', 'other'))\n",
    "df_test['utm_medium'] = df_test['utm_medium'].apply(lambda x: x.replace('(not set)', 'other').replace('(none)', 'other'))"
   ]
  },
  {
   "cell_type": "code",
   "execution_count": 24,
   "id": "90a5f6a8",
   "metadata": {
    "hidden": true
   },
   "outputs": [],
   "source": [
    "mode_country = df_train['geo_country'].mode()[0]\n",
    "df_train['geo_country'] = df_train['geo_country'].apply(lambda x: x.replace('(not set)', mode_country))\n",
    "df_test['geo_country'] = df_test['geo_country'].apply(lambda x: x.replace('(not set)', mode_country))\n",
    "\n",
    "mode_city = df_train['geo_city'].mode()[0]\n",
    "df_train['geo_city'] = df_train['geo_city'].apply(lambda x: x.replace('(not set)', mode_city))\n",
    "df_test['geo_city'] = df_test['geo_city'].apply(lambda x: x.replace('(not set)', mode_city))"
   ]
  },
  {
   "cell_type": "markdown",
   "id": "bb1fae17",
   "metadata": {
    "heading_collapsed": true
   },
   "source": [
    "## 2.2. Data Transformation"
   ]
  },
  {
   "cell_type": "markdown",
   "id": "99498081",
   "metadata": {
    "hidden": true
   },
   "source": [
    "**New attributes based on visit_date were created.\\\n",
    "Merged rare values ​​for categorical attributes into \"rare\".**\n"
   ]
  },
  {
   "cell_type": "code",
   "execution_count": 25,
   "id": "2c64afa4",
   "metadata": {
    "hidden": true
   },
   "outputs": [],
   "source": [
    "# Transform the 'visit_date' column and add features based on this column\n",
    "def get_data_from_datetime_column(df):\n",
    "    df = df.copy()\n",
    "    df['visit_date'] = pd.to_datetime(df['visit_date'])\n",
    "    df['month'] = df['visit_date'].dt.month\n",
    "    df['dayofweek'] = df['visit_date'].dt.dayofweek\n",
    "    df = df.drop(columns=['visit_date'])\n",
    "    \n",
    "    return df"
   ]
  },
  {
   "cell_type": "code",
   "execution_count": 26,
   "id": "aa15b476",
   "metadata": {
    "hidden": true
   },
   "outputs": [],
   "source": [
    "df_train = get_data_from_datetime_column(df_train)\n",
    "df_test = get_data_from_datetime_column(df_test)"
   ]
  },
  {
   "cell_type": "code",
   "execution_count": 29,
   "id": "1bd94078",
   "metadata": {
    "hidden": true
   },
   "outputs": [],
   "source": [
    "# Reduce the number of categories depending on frequency\n",
    "def get_transform_column_by_frequency(df, column, persent):\n",
    "    min_count = int(df.shape[0] * persent)\n",
    "    df_value_counts = df[column].value_counts().to_frame().reset_index()\n",
    "    df_value_counts.columns = ['unique_value', 'count']\n",
    "    list_unique_value_with_condition = df_value_counts[df_value_counts['count'] >= min_count]['unique_value'].tolist()\n",
    "    \n",
    "    def get_transform_column(value):\n",
    "        if value in list_unique_value_with_condition:\n",
    "            new_value = value\n",
    "        else:\n",
    "            new_value = 'rare'\n",
    "    \n",
    "        return new_value\n",
    "    \n",
    "    df[column] = df[column].apply(lambda x: get_transform_column(x))\n",
    "    \n",
    "    \n",
    "    return df[column]"
   ]
  },
  {
   "cell_type": "code",
   "execution_count": 30,
   "id": "46b9c893",
   "metadata": {
    "hidden": true
   },
   "outputs": [],
   "source": [
    "list_categorical_columns = ['utm_source', 'utm_medium', 'utm_campaign', 'utm_adcontent', 'utm_keyword', 'device_category',\n",
    "                            'device_brand', 'geo_country', 'geo_city']\n",
    "\n",
    "for column in list_categorical_columns:\n",
    "    df_train[column] = get_transform_column_by_frequency(df_train, column, 0.001)\n",
    "    df_test[column] = get_transform_column_by_frequency(df_test, column, 0.001)"
   ]
  },
  {
   "cell_type": "markdown",
   "id": "3b239a18",
   "metadata": {},
   "source": [
    "## 2.3. Data Standartization"
   ]
  },
  {
   "cell_type": "markdown",
   "id": "152cc26a",
   "metadata": {},
   "source": [
    "**Numeric attributes were standardized using the MinMaxScale method.**"
   ]
  },
  {
   "cell_type": "code",
   "execution_count": 29,
   "id": "318ad32a",
   "metadata": {},
   "outputs": [],
   "source": [
    "mmscaler = MinMaxScaler()\n",
    "\n",
    "mmscaled_train = mmscaler.fit_transform(df_train[['visit_number', 'month', 'dayofweek']])\n",
    "df_train[['visit_number', 'month', 'dayofweek']] = mmscaled_train\n",
    "df_train = df_train.drop(columns=['visit_number', 'month', 'dayofweek'])\n",
    "\n",
    "mmscaled_test = mmscaler.transform(df_test[['visit_number', 'month', 'dayofweek']])\n",
    "df_test[['visit_number', 'month', 'dayofweek']] = mmscaled_test\n",
    "df_test = df_test.drop(columns=['visit_number', 'month', 'dayofweek'])"
   ]
  },
  {
   "cell_type": "markdown",
   "id": "2979932d",
   "metadata": {},
   "source": [
    "## 2.4. Data Encoding"
   ]
  },
  {
   "cell_type": "markdown",
   "id": "a2916a32",
   "metadata": {},
   "source": [
    "**Categorical attributes were encoded using the Target Encoding method.**"
   ]
  },
  {
   "cell_type": "code",
   "execution_count": 30,
   "id": "3fe44c2b",
   "metadata": {},
   "outputs": [],
   "source": [
    "encoder = TargetEncoder()\n",
    "\n",
    "df_train[list_categorical_columns] = encoder.fit_transform(df_train[list_categorical_columns], df_train['event_action'])\n",
    "df_test[list_categorical_columns] = encoder.transform(df_test[list_categorical_columns], df_test['event_action'])"
   ]
  },
  {
   "cell_type": "code",
   "execution_count": 31,
   "id": "16d66193",
   "metadata": {},
   "outputs": [],
   "source": [
    "df_train.to_csv('./data/df_train_prepared.csv', index=False)\n",
    "df_test.to_csv('./data/df_test_prepared.csv', index=False)"
   ]
  },
  {
   "cell_type": "markdown",
   "id": "62bce197",
   "metadata": {},
   "source": [
    "# 3. Modeling"
   ]
  },
  {
   "cell_type": "markdown",
   "id": "55c7a514",
   "metadata": {},
   "source": [
    "**Based on the analysis of the initial data, two models were selected: LogisticRegression and RandomForestClassifier.\\\n",
    "Hyperparameters were selected on a reduced dataset.\\\n",
    "Models with the best hyperparameters were trained on the full training dataset.\\\n",
    "The influence of attributes on model prediction was analyzed. The analysis showed that different models have different contribution of attributes to the predicted result.**\n"
   ]
  },
  {
   "cell_type": "code",
   "execution_count": 32,
   "id": "7e77d063",
   "metadata": {},
   "outputs": [],
   "source": [
    "X_train = df_train.drop(['event_action'], axis=1)\n",
    "y_train = df_train['event_action']\n",
    "\n",
    "X_test = df_test.drop(['event_action'], axis=1)\n",
    "y_test = df_test['event_action']"
   ]
  },
  {
   "cell_type": "markdown",
   "id": "7ba5f27d",
   "metadata": {},
   "source": [
    "## 3.1. LogReg"
   ]
  },
  {
   "cell_type": "code",
   "execution_count": 33,
   "id": "0bd2c981",
   "metadata": {},
   "outputs": [
    {
     "name": "stdout",
     "output_type": "stream",
     "text": [
      "ROC-AUC train_set for LogisticRegression: 0.6534831796447607\n",
      "ROC-AUC test_set for LogisticRegression: 0.6523645059933767\n",
      "\n",
      "Precision train_set for LogisticRegression: 0.0430760169362815\n",
      "Precision test_set for LogisticRegression: 0.04281747011701911\n",
      "\n",
      "Recall train_set for LogisticRegression: 0.6603350369108462\n",
      "Recall test_set for LogisticRegression: 0.654763482178349\n",
      "\n",
      "Confusion_matrix test_set for LogisticRegression:\n"
     ]
    },
    {
     "data": {
      "text/plain": [
       "array([[283652, 220934],\n",
       "       [  5211,   9883]], dtype=int64)"
      ]
     },
     "execution_count": 33,
     "metadata": {},
     "output_type": "execute_result"
    }
   ],
   "source": [
    "logreg = LogisticRegression(class_weight='balanced', random_state=42)\n",
    "logreg.fit(X_train, y_train)\n",
    "\n",
    "pred_logreg_train = logreg.predict(X_train)\n",
    "pred_logreg_test = logreg.predict(X_test)\n",
    "\n",
    "print(\n",
    "    f'ROC-AUC train_set for LogisticRegression: {roc_auc_score(y_train, logreg.predict_proba(X_train)[:,1])}\\n'\n",
    "    f'ROC-AUC test_set for LogisticRegression: {roc_auc_score(y_test, logreg.predict_proba(X_test)[:,1])}\\n'\n",
    "    f'\\n'\n",
    "    f'Precision train_set for LogisticRegression: {precision_score(y_train, pred_logreg_train)}\\n'\n",
    "    f'Precision test_set for LogisticRegression: {precision_score(y_test, pred_logreg_test)}\\n'\n",
    "    f'\\n'\n",
    "    f'Recall train_set for LogisticRegression: {recall_score(y_train, pred_logreg_train)}\\n'\n",
    "    f'Recall test_set for LogisticRegression: {recall_score(y_test, pred_logreg_test)}\\n'\n",
    "    )\n",
    "print('Confusion_matrix test_set for LogisticRegression:')\n",
    "confusion_matrix(y_test, pred_logreg_test)"
   ]
  },
  {
   "cell_type": "markdown",
   "id": "9cbe44c6",
   "metadata": {},
   "source": [
    "### 3.1.1. Hyperparameter Selection"
   ]
  },
  {
   "cell_type": "code",
   "execution_count": 50,
   "id": "1c8ab783",
   "metadata": {},
   "outputs": [],
   "source": [
    "# Reduce the dataset so that  to speed up  hyperparameter selection \n",
    "df_train_short = df_train.sample(100000)\n",
    "df_test_short = df_test.sample(30000)\n",
    "\n",
    "X_train_short = df_train_short.drop(['event_action'], axis=1)\n",
    "y_train_short = df_train_short['event_action']\n",
    "\n",
    "X_test_short = df_test_short.drop(['event_action'], axis=1)\n",
    "y_test_short = df_test_short['event_action']"
   ]
  },
  {
   "cell_type": "code",
   "execution_count": 35,
   "id": "15a3d69a",
   "metadata": {},
   "outputs": [
    {
     "name": "stdout",
     "output_type": "stream",
     "text": [
      "f1 {'C': 10, 'penalty': 'l2', 'solver': 'saga'}\n",
      "roc_auc {'C': 1, 'penalty': 'l1', 'solver': 'liblinear'}\n"
     ]
    }
   ],
   "source": [
    "parameters_logreg = {'penalty': ['l2', 'l1'],\n",
    "                     'C': [0.1, 1, 5, 10],\n",
    "                     'solver': ['liblinear', 'saga']\n",
    "                    }\n",
    "\n",
    "scores = ['f1', 'roc_auc']\n",
    "\n",
    "cv = StratifiedKFold(n_splits=4, shuffle=True, random_state=42)\n",
    "\n",
    "for score in scores:\n",
    "    grid = GridSearchCV(LogisticRegression(class_weight='balanced', random_state=42),\n",
    "                                           parameters_logreg, scoring=score, cv=cv, n_jobs=-1)\n",
    "    grid.fit(X_train_short, y_train_short)\n",
    "    print(score, grid.best_params_)"
   ]
  },
  {
   "cell_type": "code",
   "execution_count": 36,
   "id": "0b394ae2",
   "metadata": {},
   "outputs": [
    {
     "name": "stdout",
     "output_type": "stream",
     "text": [
      "ROC-AUC train for LogisticRegression: 0.6581285077595085\n",
      "ROC-AUC test for LogisticRegression: 0.650021741618034\n",
      "\n",
      "Precision train_set for LogisticRegression: 0.05402946027412842\n",
      "Precision test_set for LogisticRegression: 0.05126771066368382\n",
      "\n",
      "Recall train_set for LogisticRegression: 0.3275862068965517\n",
      "Recall test_set for LogisticRegression: 0.3160919540229885\n",
      "\n",
      "Confusion_matrix test_set for LogisticRegression:\n"
     ]
    },
    {
     "data": {
      "text/plain": [
       "array([[24041,  5089],\n",
       "       [  595,   275]], dtype=int64)"
      ]
     },
     "execution_count": 36,
     "metadata": {},
     "output_type": "execute_result"
    }
   ],
   "source": [
    "#f1\n",
    "logreg1 = LogisticRegression(C=10, solver='saga', class_weight='balanced', penalty='l2', random_state=42)\n",
    "logreg1.fit(X_train_short, y_train_short)\n",
    "\n",
    "pred_logreg_train1 = logreg1.predict(X_train_short)\n",
    "pred_logreg_test1 = logreg1.predict(X_test_short)\n",
    "\n",
    "print(\n",
    "    f'ROC-AUC train for LogisticRegression: {roc_auc_score(y_train_short, logreg1.predict_proba(X_train_short)[:,1])}\\n'\n",
    "    f'ROC-AUC test for LogisticRegression: {roc_auc_score(y_test_short, logreg1.predict_proba(X_test_short)[:,1])}\\n'\n",
    "    f'\\n'\n",
    "    f'Precision train_set for LogisticRegression: {precision_score(y_train_short, pred_logreg_train1)}\\n'\n",
    "    f'Precision test_set for LogisticRegression: {precision_score(y_test_short, pred_logreg_test1)}\\n'\n",
    "    f'\\n'\n",
    "    f'Recall train_set for LogisticRegression: {recall_score(y_train_short, pred_logreg_train1)}\\n'\n",
    "    f'Recall test_set for LogisticRegression: {recall_score(y_test_short, pred_logreg_test1)}\\n'\n",
    "    )\n",
    "print('Confusion_matrix test_set for LogisticRegression:')\n",
    "confusion_matrix(y_test_short, pred_logreg_test1)"
   ]
  },
  {
   "cell_type": "code",
   "execution_count": 37,
   "id": "537e5c29",
   "metadata": {},
   "outputs": [
    {
     "name": "stdout",
     "output_type": "stream",
     "text": [
      "ROC-AUC train for LogisticRegression: 0.6582921392805142\n",
      "ROC-AUC test for LogisticRegression: 0.6503964392674929\n",
      "\n",
      "Precision train_set for LogisticRegression: 0.043706617306802406\n",
      "Precision test_set for LogisticRegression: 0.042684336235457275\n",
      "\n",
      "Recall train_set for LogisticRegression: 0.6513793103448275\n",
      "Recall test_set for LogisticRegression: 0.6367816091954023\n",
      "\n",
      "Confusion_matrix test_set for LogisticRegression:\n"
     ]
    },
    {
     "data": {
      "text/plain": [
       "array([[16705, 12425],\n",
       "       [  316,   554]], dtype=int64)"
      ]
     },
     "execution_count": 37,
     "metadata": {},
     "output_type": "execute_result"
    }
   ],
   "source": [
    "#roc-auc\n",
    "logreg2 = LogisticRegression(C=1, solver='liblinear', class_weight='balanced', penalty='l1', random_state=42, n_jobs=-2)\n",
    "logreg2.fit(X_train_short, y_train_short)\n",
    "\n",
    "pred_logreg_train2 = logreg2.predict(X_train_short)\n",
    "pred_logreg_test2 = logreg2.predict(X_test_short)\n",
    "\n",
    "print(\n",
    "    f'ROC-AUC train for LogisticRegression: {roc_auc_score(y_train_short, logreg2.predict_proba(X_train_short)[:,1])}\\n'\n",
    "    f'ROC-AUC test for LogisticRegression: {roc_auc_score(y_test_short, logreg2.predict_proba(X_test_short)[:,1])}\\n'\n",
    "    f'\\n'\n",
    "    f'Precision train_set for LogisticRegression: {precision_score(y_train_short, pred_logreg_train2)}\\n'\n",
    "    f'Precision test_set for LogisticRegression: {precision_score(y_test_short, pred_logreg_test2)}\\n'\n",
    "    f'\\n'\n",
    "    f'Recall train_set for LogisticRegression: {recall_score(y_train_short, pred_logreg_train2)}\\n'\n",
    "    f'Recall test_set for LogisticRegression: {recall_score(y_test_short, pred_logreg_test2)}\\n'\n",
    "    )\n",
    "print('Confusion_matrix test_set for LogisticRegression:')\n",
    "confusion_matrix(y_test_short, pred_logreg_test2)"
   ]
  },
  {
   "cell_type": "code",
   "execution_count": 40,
   "id": "483ebd1e",
   "metadata": {},
   "outputs": [
    {
     "name": "stdout",
     "output_type": "stream",
     "text": [
      "F1 score for LogReg on test set: 0.08853177501826151, threshold = 0.6\n",
      "[[23458  5672]\n",
      " [  567   303]]\n"
     ]
    }
   ],
   "source": [
    "threshold_best = 0\n",
    "f1_best = 0\n",
    "probs = pd.DataFrame(logreg2.predict_proba(X_train_short))\n",
    "    \n",
    "for threshold in np.arange(0.1, 1.0, 0.1):\n",
    "    classes = (probs[1] > threshold).astype('int')\n",
    "    f1 = f1_score(y_train_short, classes)\n",
    "\n",
    "    if f1 > f1_best:\n",
    "        f1_best = f1\n",
    "        threshold_best = threshold\n",
    "\n",
    "probs_test = pd.DataFrame(logreg2.predict_proba(X_test_short))\n",
    "classes_test = (probs_test[1] > threshold_best).astype('int')\n",
    "\n",
    "print(\n",
    "    f'F1 score for LogReg on test set: {f1_score(y_test_short, classes_test)}, threshold = {threshold_best}\\n'\n",
    "    f'{confusion_matrix(y_test_short, classes_test)}'\n",
    ")"
   ]
  },
  {
   "cell_type": "code",
   "execution_count": 41,
   "id": "c80d7c59",
   "metadata": {},
   "outputs": [
    {
     "name": "stdout",
     "output_type": "stream",
     "text": [
      "f1 {'C': 5, 'class_weight': 'balanced', 'l1_ratio': 0.5800000000000002, 'penalty': 'elasticnet', 'solver': 'saga'}\n",
      "roc_auc {'C': 5, 'class_weight': 'balanced', 'l1_ratio': 0.5600000000000002, 'penalty': 'elasticnet', 'solver': 'saga'}\n"
     ]
    }
   ],
   "source": [
    "parameters_logreg = {'penalty': ['elasticnet'],\n",
    "                     'C': [0.1, 1, 5, 10],\n",
    "                     'solver': ['saga'],\n",
    "                     'class_weight': ['balanced'],\n",
    "                     'l1_ratio': np.arange(0.4, 0.6, 0.02)\n",
    "            }\n",
    "\n",
    "scores = ['f1', 'roc_auc']\n",
    "\n",
    "cv = StratifiedKFold(n_splits=4, shuffle=True, random_state=42)\n",
    "\n",
    "for score in scores:\n",
    "    grid = GridSearchCV(LogisticRegression(random_state=42), parameters_logreg, scoring=score, cv=cv, n_jobs=-1)\n",
    "    grid.fit(X_train_short, y_train_short)\n",
    "    print(score, grid.best_params_)"
   ]
  },
  {
   "cell_type": "code",
   "execution_count": 45,
   "id": "fe8c7c0a",
   "metadata": {},
   "outputs": [
    {
     "name": "stdout",
     "output_type": "stream",
     "text": [
      "ROC-AUC train for LogisticRegression: 0.6580603022124365\n",
      "ROC-AUC test for LogisticRegression: 0.6497937111087436\n",
      "\n",
      "Precision train_set for LogisticRegression: 0.04027839988974262\n",
      "Precision test_set for LogisticRegression: 0.03979387346120813\n",
      "\n",
      "Recall train_set for LogisticRegression: 0.8062068965517242\n",
      "Recall test_set for LogisticRegression: 0.7988505747126436\n",
      "\n",
      "Confusion_matrix test_set for LogisticRegression:\n"
     ]
    },
    {
     "data": {
      "text/plain": [
       "array([[12360, 16770],\n",
       "       [  175,   695]], dtype=int64)"
      ]
     },
     "execution_count": 45,
     "metadata": {},
     "output_type": "execute_result"
    }
   ],
   "source": [
    "# Best model\n",
    "logreg3 = LogisticRegression(C=5, solver='saga', class_weight='balanced', penalty='elasticnet', random_state=42,\n",
    "                            l1_ratio=0.56, n_jobs=-2)\n",
    "logreg3.fit(X_train_short, y_train_short)\n",
    "\n",
    "pred_logreg_train3 = logreg3.predict(X_train_short)\n",
    "pred_logreg_test3 = logreg3.predict(X_test_short)\n",
    "\n",
    "print(\n",
    "    f'ROC-AUC train for LogisticRegression: {roc_auc_score(y_train_short, logreg3.predict_proba(X_train_short)[:,1])}\\n'\n",
    "    f'ROC-AUC test for LogisticRegression: {roc_auc_score(y_test_short, logreg3.predict_proba(X_test_short)[:,1])}\\n'\n",
    "    f'\\n'\n",
    "    f'Precision train_set for LogisticRegression: {precision_score(y_train_short, pred_logreg_train3)}\\n'\n",
    "    f'Precision test_set for LogisticRegression: {precision_score(y_test_short, pred_logreg_test3)}\\n'\n",
    "    f'\\n'\n",
    "    f'Recall train_set for LogisticRegression: {recall_score(y_train_short, pred_logreg_train3)}\\n'\n",
    "    f'Recall test_set for LogisticRegression: {recall_score(y_test_short, pred_logreg_test3)}\\n'\n",
    "    )\n",
    "print('Confusion_matrix test_set for LogisticRegression:')\n",
    "confusion_matrix(y_test_short, pred_logreg_test3)"
   ]
  },
  {
   "cell_type": "markdown",
   "id": "dde22e7a",
   "metadata": {
    "heading_collapsed": true
   },
   "source": [
    "### 3.1.2. Best LogReg"
   ]
  },
  {
   "cell_type": "code",
   "execution_count": 46,
   "id": "73597452",
   "metadata": {
    "hidden": true
   },
   "outputs": [
    {
     "name": "stdout",
     "output_type": "stream",
     "text": [
      "ROC-AUC train_set for LogisticRegression: 0.6536000761362264\n",
      "ROC-AUC test_set for LogisticRegression: 0.6516676911371024\n",
      "\n",
      "Precision train_set for LogisticRegression: 0.04085021687971494\n",
      "Precision test_set for LogisticRegression: 0.04068099598665988\n",
      "\n",
      "Recall train_set for LogisticRegression: 0.7668938103350369\n",
      "Recall test_set for LogisticRegression: 0.762885914933086\n",
      "\n",
      "Confusion_matrix test_set for LogisticRegression:\n"
     ]
    },
    {
     "data": {
      "text/plain": [
       "array([[233045, 271541],\n",
       "       [  3579,  11515]], dtype=int64)"
      ]
     },
     "execution_count": 46,
     "metadata": {},
     "output_type": "execute_result"
    }
   ],
   "source": [
    "logreg_best = LogisticRegression(C=5, solver='saga', class_weight='balanced', penalty='elasticnet', random_state=42,\n",
    "                                 l1_ratio=0.56, n_jobs=-2)\n",
    "logreg_best.fit(X_train, y_train)\n",
    "\n",
    "pred_logreg_best_train = logreg_best.predict(X_train)\n",
    "pred_logreg_best_test = logreg_best.predict(X_test)\n",
    "\n",
    "print(\n",
    "    f'ROC-AUC train_set for LogisticRegression: {roc_auc_score(y_train, logreg_best.predict_proba(X_train)[:,1])}\\n'\n",
    "    f'ROC-AUC test_set for LogisticRegression: {roc_auc_score(y_test, logreg_best.predict_proba(X_test)[:,1])}\\n'\n",
    "    f'\\n'\n",
    "    f'Precision train_set for LogisticRegression: {precision_score(y_train, pred_logreg_best_train)}\\n'\n",
    "    f'Precision test_set for LogisticRegression: {precision_score(y_test, pred_logreg_best_test)}\\n'\n",
    "    f'\\n'\n",
    "    f'Recall train_set for LogisticRegression: {recall_score(y_train, pred_logreg_best_train)}\\n'\n",
    "    f'Recall test_set for LogisticRegression: {recall_score(y_test, pred_logreg_best_test)}\\n'\n",
    "    )\n",
    "print('Confusion_matrix test_set for LogisticRegression:')\n",
    "confusion_matrix(y_test, pred_logreg_best_test)"
   ]
  },
  {
   "cell_type": "code",
   "execution_count": 47,
   "id": "97eccec9",
   "metadata": {
    "hidden": true
   },
   "outputs": [
    {
     "data": {
      "image/png": "[encoded data removed]",
      "text/plain": [
       "<Figure size 432x288 with 1 Axes>"
      ]
     },
     "metadata": {
      "needs_background": "light"
     },
     "output_type": "display_data"
    }
   ],
   "source": [
    "features = X_train.columns\n",
    "importances_logreg = abs(logreg_best.coef_).ravel()\n",
    "indices_logreg = np.argsort(importances_logreg)\n",
    "\n",
    "plt.barh(range(len(indices_logreg)), importances_logreg[indices_logreg], color='b', align='center')\n",
    "plt.yticks(range(len(indices_logreg)), [features[i] for i in indices_logreg])\n",
    "plt.title('Feature Importances for LogReg')\n",
    "plt.xlabel('Relative Importance');"
   ]
  },
  {
   "cell_type": "markdown",
   "id": "4c38adad",
   "metadata": {
    "hidden": true
   },
   "source": [
    "**According to the \"Feature Importances for LogReg\" histogram, the \"geo_country\" attribute has the greatest weight.**"
   ]
  },
  {
   "cell_type": "markdown",
   "id": "2b851885",
   "metadata": {
    "heading_collapsed": true
   },
   "source": [
    "## 3.2. Random Forest"
   ]
  },
  {
   "cell_type": "code",
   "execution_count": 48,
   "id": "534d88e0",
   "metadata": {
    "hidden": true
   },
   "outputs": [
    {
     "name": "stdout",
     "output_type": "stream",
     "text": [
      "ROC-AUC train_set for RandomForestClassifier: 0.7625439605819191\n",
      "ROC-AUC test_set for RandomForestClassifier: 0.6523806979471869\n",
      "\n",
      "Precision train_set for RandomForestClassifier: 0.8832547169811321\n",
      "Precision test_set for RandomForestClassifier: 0.11349693251533742\n",
      "\n",
      "Recall train_set for RandomForestClassifier: 0.021266325951164112\n",
      "Recall test_set for RandomForestClassifier: 0.002451305154365973\n",
      "\n",
      "Confusion_matrix test_set for RandomForestClassifier:\n"
     ]
    },
    {
     "data": {
      "text/plain": [
       "array([[504297,    289],\n",
       "       [ 15057,     37]], dtype=int64)"
      ]
     },
     "execution_count": 48,
     "metadata": {},
     "output_type": "execute_result"
    }
   ],
   "source": [
    "rfc = RandomForestClassifier(n_jobs=-2, random_state=42)\n",
    "rfc.fit(X_train, y_train)\n",
    "\n",
    "pred_rfc_train = rfc.predict(X_train)\n",
    "pred_rfc_test = rfc.predict(X_test)\n",
    "\n",
    "print(\n",
    "    f'ROC-AUC train_set for RandomForestClassifier: {roc_auc_score(y_train, rfc.predict_proba(X_train)[:, 1])}\\n'\n",
    "    f'ROC-AUC test_set for RandomForestClassifier: {roc_auc_score(y_test, rfc.predict_proba(X_test)[:, 1])}\\n'\n",
    "    f'\\n'\n",
    "    f'Precision train_set for RandomForestClassifier: {precision_score(y_train, pred_rfc_train)}\\n'\n",
    "    f'Precision test_set for RandomForestClassifier: {precision_score(y_test, pred_rfc_test)}\\n'\n",
    "    f'\\n'\n",
    "    f'Recall train_set for RandomForestClassifier: {recall_score(y_train, pred_rfc_train)}\\n'\n",
    "    f'Recall test_set for RandomForestClassifier: {recall_score(y_test, pred_rfc_test)}\\n'\n",
    "    )\n",
    "\n",
    "print('Confusion_matrix test_set for RandomForestClassifier:')\n",
    "confusion_matrix(y_test, pred_rfc_test)"
   ]
  },
  {
   "cell_type": "markdown",
   "id": "12aea78d",
   "metadata": {
    "heading_collapsed": true,
    "hidden": true
   },
   "source": [
    "### 3.2.1. Hyperparameter Selection"
   ]
  },
  {
   "cell_type": "markdown",
   "id": "b0543337",
   "metadata": {
    "hidden": true
   },
   "source": [
    "Reduce the dataset so that  to speed up  hyperparameter selection "
   ]
  },
  {
   "cell_type": "code",
   "execution_count": 51,
   "id": "64dc588f",
   "metadata": {
    "hidden": true
   },
   "outputs": [
    {
     "data": {
      "image/png": "[encoded data removed]",
      "text/plain": [
       "<Figure size 432x288 with 2 Axes>"
      ]
     },
     "metadata": {
      "needs_background": "light"
     },
     "output_type": "display_data"
    }
   ],
   "source": [
    "N = []\n",
    "f1 = []\n",
    "roc_auc = []\n",
    "\n",
    "for n in range(10, 210, 10):\n",
    "    rfc = RandomForestClassifier(n_estimators = n, random_state=42, n_jobs=-2)\n",
    "    rfc.fit(X_train_short, y_train_short)\n",
    "\n",
    "    N.append(n)\n",
    "    f1.append(f1_score(y_test_short, rfc.predict(X_test_short)))\n",
    "    roc_auc.append(roc_auc_score(y_test_short, rfc.predict_proba(X_test_short)[:, 1]))\n",
    "    \n",
    "fig, ax = plt.subplots(nrows=2, ncols=1, sharex=True)\n",
    "ax[0].plot(N, f1, '-')\n",
    "ax[0].set_ylim(0.0, 0.02)\n",
    "ax[1].plot(N, roc_auc, '-')\n",
    "ax[1].set_ylim(0.575, 0.625)\n",
    "plt.xlabel('N')\n",
    "plt.show();"
   ]
  },
  {
   "cell_type": "code",
   "execution_count": 52,
   "id": "5d3e265b",
   "metadata": {
    "hidden": true
   },
   "outputs": [
    {
     "data": {
      "image/png": "[encoded data removed]",
      "text/plain": [
       "<Figure size 432x288 with 2 Axes>"
      ]
     },
     "metadata": {
      "needs_background": "light"
     },
     "output_type": "display_data"
    }
   ],
   "source": [
    "D = []\n",
    "f1 = []\n",
    "roc_auc = []\n",
    "\n",
    "for d in range(1, 30, 2):\n",
    "    rfc = RandomForestClassifier(n_estimators = 100, max_depth=d, random_state=42, n_jobs=-2)\n",
    "    rfc.fit(X_train_short, y_train_short)\n",
    "\n",
    "    D.append(d)\n",
    "    f1.append(f1_score(y_test_short, rfc.predict(X_test_short)))\n",
    "    roc_auc.append(roc_auc_score(y_test_short, rfc.predict_proba(X_test_short)[:, 1]))\n",
    "\n",
    "fig, ax = plt.subplots(nrows=2, ncols=1, sharex=True)\n",
    "ax[0].plot(D, f1, '-')\n",
    "ax[0].set_ylim(0.0, 0.02)\n",
    "ax[1].plot(D, roc_auc, '-')\n",
    "ax[1].set_ylim(0.6, 0.7)\n",
    "plt.xlabel('D')\n",
    "plt.show();"
   ]
  },
  {
   "cell_type": "code",
   "execution_count": 59,
   "id": "5184c890",
   "metadata": {
    "hidden": true
   },
   "outputs": [
    {
     "name": "stdout",
     "output_type": "stream",
     "text": [
      "f1 {'class_weight': 'balanced_subsample', 'criterion': 'gini', 'max_depth': 15, 'max_features': 'sqrt', 'min_samples_split': 100, 'n_estimators': 200}\n",
      "roc_auc {'class_weight': 'balanced_subsample', 'criterion': 'gini', 'max_depth': 10, 'max_features': 'sqrt', 'min_samples_split': 100, 'n_estimators': 200}\n"
     ]
    }
   ],
   "source": [
    "parameters_rfc = {'n_estimators': [100, 200],\n",
    "                  'criterion': ['gini', 'log_loss'],\n",
    "                  'max_depth': [10, 15, 20],\n",
    "                  'max_features': ['sqrt', 'log2'],\n",
    "                  'min_samples_split': [2, 50, 100],\n",
    "                  'class_weight': ['balanced_subsample']\n",
    "                }\n",
    "\n",
    "scores = ['f1', 'roc_auc']\n",
    "\n",
    "cv = StratifiedKFold(n_splits=4, shuffle=True, random_state=42)\n",
    "\n",
    "list_params = []\n",
    "for score in scores:\n",
    "    grid = GridSearchCV(RandomForestClassifier(random_state=42), parameters_rfc, scoring=score, cv=cv, n_jobs=-2)\n",
    "    grid.fit(X_train_short, y_train_short)\n",
    "    list_params.append((score, grid.best_params_))\n",
    "    print(score, grid.best_params_)"
   ]
  },
  {
   "cell_type": "code",
   "execution_count": 60,
   "id": "8fb8f324",
   "metadata": {
    "hidden": true
   },
   "outputs": [
    {
     "name": "stdout",
     "output_type": "stream",
     "text": [
      "ROC-AUC train for RandomForestClassifier: 0.7894259828118897\n",
      "ROC-AUC test for RandomForestClassifier: 0.6520655326301833\n",
      "\n",
      "Precision train_set for RandomForestClassifier: 0.06428761179491721\n",
      "Precision test_set for RandomForestClassifier: 0.04459486362731435\n",
      "\n",
      "Recall train_set for RandomForestClassifier: 0.7510344827586207\n",
      "Recall test_set for RandomForestClassifier: 0.5149425287356322\n",
      "\n",
      "Confusion_matrix test_set for RandomForestClassifier:\n"
     ]
    },
    {
     "data": {
      "text/plain": [
       "array([[19532,  9598],\n",
       "       [  422,   448]], dtype=int64)"
      ]
     },
     "execution_count": 60,
     "metadata": {},
     "output_type": "execute_result"
    }
   ],
   "source": [
    "# F1\n",
    "rfc1 = RandomForestClassifier(n_estimators=200, class_weight='balanced_subsample', criterion='gini', max_depth=15,\n",
    "                                  max_features='sqrt', min_samples_split=10, n_jobs=-2, random_state=42)\n",
    "rfc1.fit(X_train_short, y_train_short)\n",
    "\n",
    "pred_rfc_train1 = rfc1.predict(X_train_short)\n",
    "pred_rfc_test1 = rfc1.predict(X_test_short)\n",
    "\n",
    "print(\n",
    "    f'ROC-AUC train for RandomForestClassifier: {roc_auc_score(y_train_short, rfc1.predict_proba(X_train_short)[:, 1])}\\n'\n",
    "    f'ROC-AUC test for RandomForestClassifier: {roc_auc_score(y_test_short, rfc1.predict_proba(X_test_short)[:, 1])}\\n'\n",
    "    f'\\n'\n",
    "    f'Precision train_set for RandomForestClassifier: {precision_score(y_train_short, pred_rfc_train1)}\\n'\n",
    "    f'Precision test_set for RandomForestClassifier: {precision_score(y_test_short, pred_rfc_test1)}\\n'\n",
    "    f'\\n'\n",
    "    f'Recall train_set for RandomForestClassifier: {recall_score(y_train_short, pred_rfc_train1)}\\n'\n",
    "    f'Recall test_set for RandomForestClassifier: {recall_score(y_test_short, pred_rfc_test1)}\\n'\n",
    "    )\n",
    "\n",
    "print('Confusion_matrix test_set for RandomForestClassifier:')\n",
    "confusion_matrix(y_test_short, pred_rfc_test1)"
   ]
  },
  {
   "cell_type": "code",
   "execution_count": 61,
   "id": "1a3b2bb2",
   "metadata": {
    "hidden": true
   },
   "outputs": [
    {
     "name": "stdout",
     "output_type": "stream",
     "text": [
      "ROC-AUC train for RandomForestClassifier: 0.7267199225824781\n",
      "ROC-AUC test for RandomForestClassifier: 0.673989803930853\n",
      "\n",
      "Precision train_set for RandomForestClassifier: 0.05003265534614667\n",
      "Precision test_set for RandomForestClassifier: 0.045134319114345435\n",
      "\n",
      "Recall train_set for RandomForestClassifier: 0.7396551724137931\n",
      "Recall test_set for RandomForestClassifier: 0.6701149425287356\n",
      "\n",
      "Confusion_matrix test_set for RandomForestClassifier:\n"
     ]
    },
    {
     "data": {
      "text/plain": [
       "array([[16796, 12334],\n",
       "       [  287,   583]], dtype=int64)"
      ]
     },
     "execution_count": 61,
     "metadata": {},
     "output_type": "execute_result"
    }
   ],
   "source": [
    "# ROC AUC -best model\n",
    "rfc2 = RandomForestClassifier(n_estimators=200, class_weight='balanced_subsample', criterion='gini', max_depth=10,\n",
    "                                  max_features='sqrt', min_samples_split=100, n_jobs=-2, random_state=42)\n",
    "rfc2.fit(X_train_short, y_train_short)\n",
    "\n",
    "pred_rfc_train2 = rfc2.predict(X_train_short)\n",
    "pred_rfc_test2 = rfc2.predict(X_test_short)\n",
    "\n",
    "print(\n",
    "    f'ROC-AUC train for RandomForestClassifier: {roc_auc_score(y_train_short, rfc2.predict_proba(X_train_short)[:, 1])}\\n'\n",
    "    f'ROC-AUC test for RandomForestClassifier: {roc_auc_score(y_test_short, rfc2.predict_proba(X_test_short)[:, 1])}\\n'\n",
    "    f'\\n'\n",
    "    f'Precision train_set for RandomForestClassifier: {precision_score(y_train_short, pred_rfc_train2)}\\n'\n",
    "    f'Precision test_set for RandomForestClassifier: {precision_score(y_test_short, pred_rfc_test2)}\\n'\n",
    "    f'\\n'\n",
    "    f'Recall train_set for RandomForestClassifier: {recall_score(y_train_short, pred_rfc_train2)}\\n'\n",
    "    f'Recall test_set for RandomForestClassifier: {recall_score(y_test_short, pred_rfc_test2)}\\n'\n",
    "    )\n",
    "\n",
    "print('Confusion_matrix test_set for RandomForestClassifier:')\n",
    "confusion_matrix(y_test_short, pred_rfc_test2)"
   ]
  },
  {
   "cell_type": "code",
   "execution_count": 62,
   "id": "fa36de21",
   "metadata": {
    "hidden": true,
    "scrolled": true
   },
   "outputs": [
    {
     "name": "stdout",
     "output_type": "stream",
     "text": [
      "\n",
      "threshold = 0.1\n",
      "F1 test_set for RandomForestClassifier: 0.05892393827666256\n",
      "Precision test_set for RandomForestClassifier: 0.030363802688058546\n",
      "Recall test_set for RandomForestClassifier: 0.9919540229885058\n",
      "Confusion_matrix test_set for RandomForestClassifier:\n",
      "[[ 1571 27559]\n",
      " [    7   863]]\n",
      "\n",
      "threshold = 0.2\n",
      "F1 test_set for RandomForestClassifier: 0.06273266742840292\n",
      "Precision test_set for RandomForestClassifier: 0.03240546818476067\n",
      "Recall test_set for RandomForestClassifier: 0.9781609195402299\n",
      "Confusion_matrix test_set for RandomForestClassifier:\n",
      "[[ 3720 25410]\n",
      " [   19   851]]\n",
      "\n",
      "threshold = 0.30000000000000004\n",
      "F1 test_set for RandomForestClassifier: 0.06965390985964608\n",
      "Precision test_set for RandomForestClassifier: 0.03619971003986952\n",
      "Recall test_set for RandomForestClassifier: 0.9183908045977012\n",
      "Confusion_matrix test_set for RandomForestClassifier:\n",
      "[[ 7857 21273]\n",
      " [   71   799]]\n",
      "\n",
      "threshold = 0.4\n",
      "F1 test_set for RandomForestClassifier: 0.07604404737170165\n",
      "Precision test_set for RandomForestClassifier: 0.03982156457403982\n",
      "Recall test_set for RandomForestClassifier: 0.8413793103448276\n",
      "Confusion_matrix test_set for RandomForestClassifier:\n",
      "[[11480 17650]\n",
      " [  138   732]]\n",
      "\n",
      "threshold = 0.5\n",
      "F1 test_set for RandomForestClassifier: 0.08457242329730906\n",
      "Precision test_set for RandomForestClassifier: 0.045134319114345435\n",
      "Recall test_set for RandomForestClassifier: 0.6701149425287356\n",
      "Confusion_matrix test_set for RandomForestClassifier:\n",
      "[[16796 12334]\n",
      " [  287   583]]\n",
      "\n",
      "threshold = 0.6\n",
      "F1 test_set for RandomForestClassifier: 0.10912799592044875\n",
      "Precision test_set for RandomForestClassifier: 0.07011795543905636\n",
      "Recall test_set for RandomForestClassifier: 0.24597701149425288\n",
      "Confusion_matrix test_set for RandomForestClassifier:\n",
      "[[26292  2838]\n",
      " [  656   214]]\n",
      "\n",
      "threshold = 0.7000000000000001\n",
      "F1 test_set for RandomForestClassifier: 0.08660508083140879\n",
      "Precision test_set for RandomForestClassifier: 0.08700696055684455\n",
      "Recall test_set for RandomForestClassifier: 0.08620689655172414\n",
      "Confusion_matrix test_set for RandomForestClassifier:\n",
      "[[28343   787]\n",
      " [  795    75]]\n",
      "\n",
      "threshold = 0.8\n",
      "F1 test_set for RandomForestClassifier: 0.0022624434389140274\n",
      "Precision test_set for RandomForestClassifier: 0.07142857142857142\n",
      "Recall test_set for RandomForestClassifier: 0.0011494252873563218\n",
      "Confusion_matrix test_set for RandomForestClassifier:\n",
      "[[29117    13]\n",
      " [  869     1]]\n",
      "\n",
      "threshold = 0.9\n",
      "F1 test_set for RandomForestClassifier: 0.0\n",
      "Precision test_set for RandomForestClassifier: 0.0\n",
      "Recall test_set for RandomForestClassifier: 0.0\n",
      "Confusion_matrix test_set for RandomForestClassifier:\n",
      "[[29130     0]\n",
      " [  870     0]]\n"
     ]
    }
   ],
   "source": [
    "probs = pd.DataFrame(rfc2.predict_proba(X_test_short))\n",
    "    \n",
    "for threshold in np.arange(0.1, 1.0, 0.1):\n",
    "    classes = (probs[1] > threshold).astype('int')\n",
    "    \n",
    "    print(\n",
    "        f'\\nthreshold = {threshold}\\n'\n",
    "        f'F1 test_set for RandomForestClassifier: {f1_score(y_test_short, classes)}\\n'\n",
    "        f'Precision test_set for RandomForestClassifier: {precision_score(y_test_short, classes)}\\n'\n",
    "        f'Recall test_set for RandomForestClassifier: {recall_score(y_test_short, classes)}'\n",
    "        )\n",
    "    print('Confusion_matrix test_set for RandomForestClassifier:')\n",
    "    print(confusion_matrix(y_test_short, classes))"
   ]
  },
  {
   "cell_type": "markdown",
   "id": "ac82d9ae",
   "metadata": {
    "heading_collapsed": true,
    "hidden": true
   },
   "source": [
    "### 3.2.2. Best Random Forest"
   ]
  },
  {
   "cell_type": "code",
   "execution_count": 63,
   "id": "0cddce67",
   "metadata": {
    "hidden": true
   },
   "outputs": [
    {
     "name": "stdout",
     "output_type": "stream",
     "text": [
      "ROC-AUC train_set for RandomForestClassifier: 0.6896025119331931\n",
      "ROC-AUC test_set for RandomForestClassifier: 0.6805146120151677\n",
      "\n",
      "Precision train_set for RandomForestClassifier: 0.04470796350958028\n",
      "Precision test_set for RandomForestClassifier: 0.04382107960916226\n",
      "\n",
      "Recall train_set for RandomForestClassifier: 0.7405451448040886\n",
      "Recall test_set for RandomForestClassifier: 0.7249900622764012\n",
      "\n",
      "Confusion_matrix test_set for RandomForestClassifier:\n"
     ]
    },
    {
     "data": {
      "text/plain": [
       "array([[265809, 238777],\n",
       "       [  4151,  10943]], dtype=int64)"
      ]
     },
     "execution_count": 63,
     "metadata": {},
     "output_type": "execute_result"
    }
   ],
   "source": [
    "rfc_best = RandomForestClassifier(n_estimators=200, class_weight='balanced_subsample', criterion='gini', max_depth=10,\n",
    "                                  max_features='sqrt', min_samples_split=100, n_jobs=-2, random_state=42)\n",
    "rfc_best.fit(X_train, y_train)\n",
    "\n",
    "pred_rfc_best_train = rfc_best.predict(X_train)\n",
    "pred_rfc_best_test = rfc_best.predict(X_test)\n",
    "\n",
    "print(\n",
    "    f'ROC-AUC train_set for RandomForestClassifier: {roc_auc_score(y_train, rfc_best.predict_proba(X_train)[:, 1])}\\n'\n",
    "    f'ROC-AUC test_set for RandomForestClassifier: {roc_auc_score(y_test, rfc_best.predict_proba(X_test)[:, 1])}\\n'\n",
    "    f'\\n'\n",
    "    f'Precision train_set for RandomForestClassifier: {precision_score(y_train, pred_rfc_best_train)}\\n'\n",
    "    f'Precision test_set for RandomForestClassifier: {precision_score(y_test, pred_rfc_best_test)}\\n'\n",
    "    f'\\n'\n",
    "    f'Recall train_set for RandomForestClassifier: {recall_score(y_train, pred_rfc_best_train)}\\n'\n",
    "    f'Recall test_set for RandomForestClassifier: {recall_score(y_test, pred_rfc_best_test)}\\n'\n",
    "    )\n",
    "\n",
    "print('Confusion_matrix test_set for RandomForestClassifier:')\n",
    "confusion_matrix(y_test, pred_rfc_best_test)"
   ]
  },
  {
   "cell_type": "code",
   "execution_count": 64,
   "id": "6253cb83",
   "metadata": {
    "hidden": true
   },
   "outputs": [
    {
     "data": {
      "image/png": "[encoded data removed]",
      "text/plain": [
       "<Figure size 432x288 with 1 Axes>"
      ]
     },
     "metadata": {
      "needs_background": "light"
     },
     "output_type": "display_data"
    }
   ],
   "source": [
    "features = X_train.columns\n",
    "importances_rfc = abs(rfc_best.feature_importances_).ravel()\n",
    "indices_rfc = np.argsort(importances_rfc)\n",
    "\n",
    "plt.barh(range(len(indices_rfc)), importances_rfc[indices_rfc], color='b', align='center')\n",
    "plt.yticks(range(len(indices_rfc)), [features[i] for i in indices_rfc])\n",
    "plt.title('Feature Importances for Random Forest')\n",
    "plt.xlabel('Relative Importance');"
   ]
  },
  {
   "cell_type": "markdown",
   "id": "fa1a1514",
   "metadata": {
    "hidden": true
   },
   "source": [
    "**According to the \"Feature Importances for Random Forest\" histogram, the \"utm_campaign\" attribute has the highest weight.**"
   ]
  },
  {
   "cell_type": "markdown",
   "id": "85c8cc36",
   "metadata": {
    "heading_collapsed": true
   },
   "source": [
    "## 3.3. Best Model"
   ]
  },
  {
   "cell_type": "code",
   "execution_count": 65,
   "id": "df305ae9",
   "metadata": {
    "hidden": true
   },
   "outputs": [],
   "source": [
    "df_full = pd.concat([df_train, df_test], axis=0)\n",
    "X = df_full.drop(['event_action'], axis=1)\n",
    "y = df_full['event_action']"
   ]
  },
  {
   "cell_type": "code",
   "execution_count": 68,
   "id": "cf8211f2",
   "metadata": {
    "hidden": true
   },
   "outputs": [
    {
     "name": "stdout",
     "output_type": "stream",
     "text": [
      "Cross validation for LogisticRegression(C=5, class_weight='balanced', l1_ratio=0.56, n_jobs=-2,\n",
      "                   penalty='elasticnet', random_state=42, solver='saga'): \n",
      "Mean score: 0.6532022329511689.\n",
      "Std score: 0.002035924829534992.\n",
      "\n",
      "Cross validation for RandomForestClassifier(class_weight='balanced_subsample', max_depth=10,\n",
      "                       max_features='sqrt', min_samples_split=100,\n",
      "                       n_estimators=200, n_jobs=-2, random_state=42): \n",
      "Mean score: 0.6808665811672487.\n",
      "Std score: 0.0016338547538721439.\n",
      "\n"
     ]
    }
   ],
   "source": [
    "cv = StratifiedKFold(n_splits=5, shuffle=True, random_state=42)\n",
    "\n",
    "for model in [logreg_best, rfc_best]:\n",
    "    cv_score = cross_val_score(model, X, y, scoring='roc_auc', n_jobs=-2, cv=cv)\n",
    "    print(\n",
    "          f'Cross validation for {model}: \\n'\n",
    "          f'Mean score: {cv_score.mean()}.\\n'\n",
    "          f'Std score: {cv_score.std()}.\\n'\n",
    "         )"
   ]
  },
  {
   "cell_type": "markdown",
   "id": "d4c51669",
   "metadata": {},
   "source": [
    "# 4. Result"
   ]
  },
  {
   "cell_type": "markdown",
   "id": "8261c9bf",
   "metadata": {},
   "source": [
    "**Based on the results of cross-validation, it was found that the RandomForestClassifier model showed the best result with a ROC-AUC value of 0.681.**"
   ]
  },
  {
   "cell_type": "code",
   "execution_count": 69,
   "id": "048f5a1e",
   "metadata": {},
   "outputs": [
    {
     "data": {
      "text/plain": [
       "RandomForestClassifier(class_weight='balanced_subsample', max_depth=10,\n",
       "                       max_features='sqrt', min_samples_split=100,\n",
       "                       n_estimators=200, n_jobs=-2, random_state=42)"
      ]
     },
     "execution_count": 69,
     "metadata": {},
     "output_type": "execute_result"
    }
   ],
   "source": [
    "best_model = RandomForestClassifier(class_weight='balanced_subsample', max_depth=10, max_features='sqrt',\n",
    "                                    min_samples_split=100, n_estimators=200, n_jobs=-2, random_state=42)\n",
    "best_model.fit(X, y)"
   ]
  },
  {
   "cell_type": "code",
   "execution_count": 71,
   "id": "881ddb13",
   "metadata": {},
   "outputs": [],
   "source": [
    "with open('./model.pickle', 'wb') as file:\n",
    "    pickle.dump(best_model, file)"
   ]
  },
  {
   "cell_type": "code",
   "execution_count": null,
   "id": "94b5fa90",
   "metadata": {},
   "outputs": [],
   "source": []
  }
 ],
 "metadata": {
  "hide_input": false,
  "kernelspec": {
   "display_name": "Python [conda env:base] *",
   "language": "python",
   "name": "conda-base-py"
  },
  "language_info": {
   "codemirror_mode": {
    "name": "ipython",
    "version": 3
   },
   "file_extension": ".py",
   "mimetype": "text/x-python",
   "name": "python",
   "nbconvert_exporter": "python",
   "pygments_lexer": "ipython3",
   "version": "3.12.7"
  },
  "toc": {
   "base_numbering": 1,
   "nav_menu": {},
   "number_sections": true,
   "sideBar": true,
   "skip_h1_title": false,
   "title_cell": "Table of Contents",
   "title_sidebar": "Contents",
   "toc_cell": false,
   "toc_position": {},
   "toc_section_display": true,
   "toc_window_display": false
  }
 },
 "nbformat": 4,
 "nbformat_minor": 5
}
